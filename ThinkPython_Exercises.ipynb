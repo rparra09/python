{
  "nbformat": 4,
  "nbformat_minor": 0,
  "metadata": {
    "colab": {
      "name": "ThinkPython_Exercises.ipynb",
      "provenance": [],
      "collapsed_sections": [],
      "authorship_tag": "ABX9TyNGKh57+3dnVEJ5wz1jmmsF",
      "include_colab_link": true
    },
    "kernelspec": {
      "name": "python3",
      "display_name": "Python 3"
    },
    "language_info": {
      "name": "python"
    }
  },
  "cells": [
    {
      "cell_type": "markdown",
      "metadata": {
        "id": "view-in-github",
        "colab_type": "text"
      },
      "source": [
        "<a href=\"https://colab.research.google.com/github/rparra09/python/blob/main/ThinkPython_Exercises.ipynb\" target=\"_parent\"><img src=\"https://colab.research.google.com/assets/colab-badge.svg\" alt=\"Open In Colab\"/></a>"
      ]
    },
    {
      "cell_type": "code",
      "execution_count": null,
      "metadata": {
        "id": "dFO7TvJIHmQ_",
        "outputId": "f597ca7f-edd9-470b-de7c-52b8c64536e2",
        "colab": {
          "base_uri": "https://localhost:8080/"
        }
      },
      "outputs": [
        {
          "output_type": "stream",
          "name": "stdout",
          "text": [
            "The average time per mile is 7.004\n",
            "The average speed in miles per hour is 8.567\n"
          ]
        }
      ],
      "source": [
        "##If you run a 10 kilometer race in 43 minutes 30 seconds, what is your average time per mile? What\n",
        "##is your average speed in miles per hour? (Hint: there are 1.61 kilometers in a mile)\n",
        "def avg_time_per_mile(kilometers, miles_k, total_time):\n",
        "  avg_time = round(total_time/(kilometers/miles_k), 3)\n",
        "  #a = (10*1.61)/43.5\n",
        "  print(\"The average time per mile is\", avg_time)\n",
        "\n",
        "avg_time_per_mile(10, 1.61, 43.5)\n",
        "\n",
        "def avg_speed(kilometers, miles_k, total_time):\n",
        "  distance = kilometers/miles_k\n",
        "  time_miles = total_time/60\n",
        "  speed = round(distance/time_miles, 3)\n",
        "  print(\"The average speed in miles per hour is\", speed)\n",
        "\n",
        "avg_speed(10, 1.61, 43.5)"
      ]
    }
  ]
}