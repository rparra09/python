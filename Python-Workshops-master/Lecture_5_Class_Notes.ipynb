{
  "nbformat": 4,
  "nbformat_minor": 0,
  "metadata": {
    "colab": {
      "name": "Lecture_5_Class_Notes.ipynb",
      "version": "0.3.2",
      "provenance": [],
      "collapsed_sections": []
    },
    "kernelspec": {
      "name": "python3",
      "display_name": "Python 3"
    }
  },
  "cells": [
    {
      "metadata": {
        "id": "vR9aDp_NokMT",
        "colab_type": "text"
      },
      "cell_type": "markdown",
      "source": [
        "# Python Lecture - 5"
      ]
    },
    {
      "metadata": {
        "id": "RyHbTpx2TzeN",
        "colab_type": "text"
      },
      "cell_type": "markdown",
      "source": [
        "## Index Review"
      ]
    },
    {
      "metadata": {
        "id": "OUGBXg5DqrXH",
        "colab_type": "code",
        "colab": {
          "base_uri": "https://localhost:8080/",
          "height": 122
        },
        "outputId": "3e275194-0f3c-429c-e94f-8a667929f947"
      },
      "cell_type": "code",
      "source": [
        "'''\n",
        "  Index of a list\n",
        "'''\n",
        "\n",
        "anIndex = [9,78,2,3,4,5]\n",
        "\n",
        "print('index 0 =',anIndex[0])\n",
        "print('index 1 =',anIndex[1])\n",
        "print('index 2 =',anIndex[2])\n",
        "print('index 3 =',anIndex[3])\n",
        "print('index 4 =',anIndex[4])\n",
        "print('index 5 =',anIndex[5])"
      ],
      "execution_count": 2,
      "outputs": [
        {
          "output_type": "stream",
          "text": [
            "index 0 = 9\n",
            "index 1 = 78\n",
            "index 2 = 2\n",
            "index 3 = 3\n",
            "index 4 = 4\n",
            "index 5 = 5\n"
          ],
          "name": "stdout"
        }
      ]
    },
    {
      "metadata": {
        "id": "U0pTpLsDUEzc",
        "colab_type": "code",
        "colab": {
          "base_uri": "https://localhost:8080/",
          "height": 122
        },
        "outputId": "c1c2032e-af64-4319-e9b7-e5daeba7b819"
      },
      "cell_type": "code",
      "source": [
        "'''\n",
        "  Index of a multidimensional list\n",
        "'''\n",
        "\n",
        "multiList = [[1,2,3],\n",
        "             [4,5,6],\n",
        "             [7,8,9]]\n",
        "\n",
        "print('index 0',multiList[0])\n",
        "print('index 1',multiList[1])\n",
        "print('index 2',multiList[2])\n",
        "\n",
        "print('index 0-0 =',multiList[0][0])\n",
        "print('index 1-0 =',multiList[1][0])\n",
        "print('index 2-0 =',multiList[2][0])"
      ],
      "execution_count": 1,
      "outputs": [
        {
          "output_type": "stream",
          "text": [
            "index 0 [1, 2, 3]\n",
            "index 1 [4, 5, 6]\n",
            "index 2 [7, 8, 9]\n",
            "index 0-0 = 1\n",
            "index 1-0 = 4\n",
            "index 2-0 = 7\n"
          ],
          "name": "stdout"
        }
      ]
    },
    {
      "metadata": {
        "id": "1uvUy8K5UipB",
        "colab_type": "text"
      },
      "cell_type": "markdown",
      "source": [
        "## For Loops"
      ]
    },
    {
      "metadata": {
        "id": "_MJRddKuUl8t",
        "colab_type": "code",
        "colab": {}
      },
      "cell_type": "code",
      "source": [
        "'''\n",
        "  For loops are used to traverse through data\n",
        "'''\n",
        "\n",
        "aListofData = [3123,315675,32432,8744]\n",
        "\n",
        "for row in aListofData:\n",
        "  print(row)"
      ],
      "execution_count": 0,
      "outputs": []
    },
    {
      "metadata": {
        "id": "yv_rHygkq-LN",
        "colab_type": "code",
        "colab": {
          "base_uri": "https://localhost:8080/",
          "height": 122
        },
        "outputId": "c08b7627-dafa-499e-ad2f-60511aa23d3c"
      },
      "cell_type": "code",
      "source": [
        "'''\n",
        "  For loops can be used to do math to your data\n",
        "'''\n",
        "\n",
        "anIndex = [9,78,2,3,4,5]\n",
        "\n",
        "for row in anIndex:\n",
        "  x = row * 3\n",
        "  print(x)"
      ],
      "execution_count": 3,
      "outputs": [
        {
          "output_type": "stream",
          "text": [
            "27\n",
            "234\n",
            "6\n",
            "9\n",
            "12\n",
            "15\n"
          ],
          "name": "stdout"
        }
      ]
    },
    {
      "metadata": {
        "id": "Wgy0cWOtrRH9",
        "colab_type": "code",
        "colab": {
          "base_uri": "https://localhost:8080/",
          "height": 70
        },
        "outputId": "2c69ca0a-fa30-44b5-eb7e-679adf737155"
      },
      "cell_type": "code",
      "source": [
        "'''\n",
        "  Notice the behavior of for loops with multidimensional lists\n",
        "'''\n",
        "\n",
        "multiList = [[1,2,3],\n",
        "             [4,5,6],\n",
        "             [7,8,9]]\n",
        "\n",
        "for row in multiList:\n",
        "  print(row)"
      ],
      "execution_count": 0,
      "outputs": [
        {
          "output_type": "stream",
          "text": [
            "[1, 2, 3]\n",
            "[4, 5, 6]\n",
            "[7, 8, 9]\n"
          ],
          "name": "stdout"
        }
      ]
    },
    {
      "metadata": {
        "id": "1MkopIrBroO7",
        "colab_type": "code",
        "colab": {
          "base_uri": "https://localhost:8080/",
          "height": 175
        },
        "outputId": "efd7d322-5e99-4d39-cf90-0acd489adeed"
      },
      "cell_type": "code",
      "source": [
        "'''\n",
        "  Notice the behavior of for loops with multidimensional lists\n",
        "'''\n",
        "\n",
        "multiList = [[1,2,3],\n",
        "             [4,5,6],\n",
        "             [7,8,9]]\n",
        "\n",
        "for row in multiList:\n",
        "  for item in row:\n",
        "    print(item)"
      ],
      "execution_count": 0,
      "outputs": [
        {
          "output_type": "stream",
          "text": [
            "1\n",
            "2\n",
            "3\n",
            "4\n",
            "5\n",
            "6\n",
            "7\n",
            "8\n",
            "9\n"
          ],
          "name": "stdout"
        }
      ]
    },
    {
      "metadata": {
        "id": "h6c_7ZLutDXn",
        "colab_type": "code",
        "colab": {
          "base_uri": "https://localhost:8080/",
          "height": 70
        },
        "outputId": "0f7bce54-ab7b-41ee-a5e0-1528b22b306e"
      },
      "cell_type": "code",
      "source": [
        "'''\n",
        "  you can change the name to whatever you like, but keep it something relatable\n",
        "'''\n",
        "\n",
        "for adam in multiList:\n",
        "  print(adam)"
      ],
      "execution_count": 0,
      "outputs": [
        {
          "output_type": "stream",
          "text": [
            "[1, 2, 3]\n",
            "[4, 5, 6]\n",
            "[7, 8, 9]\n"
          ],
          "name": "stdout"
        }
      ]
    },
    {
      "metadata": {
        "id": "9ULCBPMss1kW",
        "colab_type": "code",
        "colab": {
          "base_uri": "https://localhost:8080/",
          "height": 211
        },
        "outputId": "432ef2b6-eb29-46be-f143-5e864acec329"
      },
      "cell_type": "code",
      "source": [
        "# https://docs.python.org/3/library/functions.html#func-range \n",
        "# range(start, stop[, step])\n",
        "\n",
        "for row in range(0,11):\n",
        "  print(row)"
      ],
      "execution_count": 0,
      "outputs": [
        {
          "output_type": "stream",
          "text": [
            "0\n",
            "1\n",
            "2\n",
            "3\n",
            "4\n",
            "5\n",
            "6\n",
            "7\n",
            "8\n",
            "9\n",
            "10\n"
          ],
          "name": "stdout"
        }
      ]
    },
    {
      "metadata": {
        "id": "Y_3NbV2avl_k",
        "colab_type": "code",
        "colab": {
          "base_uri": "https://localhost:8080/",
          "height": 122
        },
        "outputId": "05101d4d-1d0b-41e1-d1e0-3bc3476ee5a5"
      },
      "cell_type": "code",
      "source": [
        "multiList = [[1,2,3],\n",
        "             [4,5,6],\n",
        "             [7,8,9]]\n",
        "\n",
        "print(multiList)\n",
        "\n",
        "myResults = []\n",
        "\n",
        "for row in multiList:\n",
        "  row[0] = row[0] * 5\n",
        "  row[1] = row[1] * 3\n",
        "  row[2] = row[2] / 2\n",
        "  myResults.append(row)\n",
        "\n",
        "\"\"\"for row in multiList:\n",
        "  row[0] = row[0] * 5\n",
        "  row[1] = row[1] * 3\n",
        "  row[2] = row[2] / 2\n",
        "  myResults.append(row)\"\"\"\n",
        "  \n",
        "print(myResults)\n",
        "\n",
        "def multiplyList(x):\n",
        "  for row in x:\n",
        "    row[0] = row[0] * 5\n",
        "    row[1] = row[0] * 3\n",
        "    row[2] = row[0] /2\n",
        "    \n",
        "    print(row)\n",
        "\n",
        "print(multiplyList(multiList))"
      ],
      "execution_count": 12,
      "outputs": [
        {
          "output_type": "stream",
          "text": [
            "[[1, 2, 3], [4, 5, 6], [7, 8, 9]]\n",
            "[[5, 6, 1.5], [20, 15, 3.0], [35, 24, 4.5]]\n",
            "[25, 75, 12.5]\n",
            "[100, 300, 50.0]\n",
            "[175, 525, 87.5]\n",
            "None\n"
          ],
          "name": "stdout"
        }
      ]
    },
    {
      "metadata": {
        "id": "oXkT0mXZXSGB",
        "colab_type": "text"
      },
      "cell_type": "markdown",
      "source": [
        "## The most simple way of looking at For Loops\n",
        "\n",
        "Lets imagine we have data from an excel file\n",
        "\n",
        "![excel data](https://image.ibb.co/f3UdD0/excel-data.png)\n",
        "\n",
        "Importing the data to a python list would yield: \n",
        "\n",
        "\n",
        "```\n",
        "anExcelFile = [[1, 2, 3], [4, 5, 6], [7, 8, 9]]\n",
        "```\n",
        "\n",
        "So lets write some code that simplifies For loops as much as possible."
      ]
    },
    {
      "metadata": {
        "id": "XP2VgDpo02W6",
        "colab_type": "code",
        "colab": {
          "base_uri": "https://localhost:8080/",
          "height": 35
        },
        "outputId": "dadd976b-d467-409b-e11f-2e464c79323f"
      },
      "cell_type": "code",
      "source": [
        "'''\n",
        "  Lets write python in plain english\n",
        "'''\n",
        "\n",
        "anExcelFile = [[1, 2, 3], [4, 5, 6], [7, 8, 9]]\n",
        "\n",
        "myResults = []\n",
        "\n",
        "for row in anExcelFile:\n",
        "  columnA = row[0] * 2\n",
        "  columnB = row[1]\n",
        "  columnC = row[2]\n",
        "  \n",
        "  row = [columnA,columnB,columnC]\n",
        "  myResults.append(row)\n",
        "\n",
        "print(myResults)"
      ],
      "execution_count": 0,
      "outputs": [
        {
          "output_type": "stream",
          "text": [
            "[[2, 2, 3], [8, 5, 6], [14, 8, 9]]\n"
          ],
          "name": "stdout"
        }
      ]
    },
    {
      "metadata": {
        "id": "CwjvgBSG3lqD",
        "colab_type": "code",
        "colab": {
          "base_uri": "https://localhost:8080/",
          "height": 87
        },
        "outputId": "dfcd103b-9ce6-4f99-da17-bd05a2b1ab46"
      },
      "cell_type": "code",
      "source": [
        "'''\n",
        "  Example of how easy it is to implement math\n",
        "'''\n",
        "\n",
        "import numpy as np\n",
        "from numpy import linalg as LA\n",
        "\n",
        "w, v = LA.eig(np.diag((1, 2, 3)))\n",
        "\n",
        "print(w)\n",
        "print(v)"
      ],
      "execution_count": 0,
      "outputs": [
        {
          "output_type": "stream",
          "text": [
            "[1. 2. 3.]\n",
            "[[1. 0. 0.]\n",
            " [0. 1. 0.]\n",
            " [0. 0. 1.]]\n"
          ],
          "name": "stdout"
        }
      ]
    }
  ]
}