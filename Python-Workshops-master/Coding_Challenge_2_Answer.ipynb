{
  "nbformat": 4,
  "nbformat_minor": 0,
  "metadata": {
    "colab": {
      "name": "Coding-Challenge-2-Answer.ipynb",
      "version": "0.3.2",
      "provenance": []
    },
    "kernelspec": {
      "name": "python3",
      "display_name": "Python 3"
    }
  },
  "cells": [
    {
      "metadata": {
        "id": "7SzG6gxHRlx1",
        "colab_type": "text"
      },
      "cell_type": "markdown",
      "source": [
        "# Coding Challenge - 2\n",
        "This week we will create a Python 3 function for the Gram-Schmidt Orthonormalization Process. Why? Because you need to be good at making **for loops** to make such a function!\n",
        "\n",
        "\n",
        "**Further reading:**\n",
        "1.   [khanacademy.org](https://www.khanacademy.org/math/linear-algebra/alternate-bases/orthonormal-basis/v/linear-algebra-the-gram-schmidt-process)\n",
        "2.   [wikipedia.org](https://en.wikipedia.org/wiki/Gram%E2%80%93Schmidt_process)\n",
        "\n"
      ]
    },
    {
      "metadata": {
        "id": "CWGfm37zSIUr",
        "colab_type": "text"
      },
      "cell_type": "markdown",
      "source": [
        "## Gram-Schmidt Orthonormalization Process\n",
        "\n",
        "It has three steps.\n",
        "1. Begin with a basis for the inner product space. It need not be orthogonal nor\n",
        "consist of unit vectors.\n",
        "2. Convert the basis to an orthogonal basis.\n",
        "3. Normalize each vector in the orthogonal basis to form an orthonormal basis\n",
        "\n",
        "![alt text](https://image.ibb.co/eU84mL/gs-process.png)"
      ]
    },
    {
      "metadata": {
        "id": "yBF_hvWSVTnh",
        "colab_type": "text"
      },
      "cell_type": "markdown",
      "source": [
        "## The challenge\n",
        "Create a python 3 function to pass a multidimensional list of vectors and appy the gram-schmidt process for orthoganolization.\n",
        "\n",
        "Hint, use numpy to save time! \n",
        "https://docs.scipy.org/doc/numpy-1.15.1/reference/routines.linalg.html\n",
        "\n",
        "**Example output:**\n",
        "\n",
        "```\n",
        "Given B = \n",
        "\n",
        "[[1 1 0]\n",
        " [1 2 0]\n",
        " [0 1 2]]\n",
        "\n",
        "B' is an orthogonal basis for R3\n",
        "\n",
        "[[ 1.   1.   0. ]\n",
        " [-0.5  0.5  0. ]\n",
        " [ 0.   0.   2. ]]\n",
        "\n",
        "and B'' is an orthonormal basis for R3\n",
        "\n",
        "[[ 0.70710678  0.70710678  0.        ]\n",
        " [-0.70710678  0.70710678  0.        ]\n",
        " [ 0.          0.          1.        ]]\n",
        "```\n",
        "\n",
        "**Another example**\n",
        "\n",
        "```\n",
        "Given B = \n",
        "\n",
        "[[0 1 1]\n",
        " [1 1 0]\n",
        " [1 0 1]]\n",
        "\n",
        "B' is an orthogonal basis for R3\n",
        "\n",
        "[[ 0.          1.          1.        ]\n",
        " [ 1.          0.5        -0.5       ]\n",
        " [ 0.66666667 -0.66666667  0.66666667]]\n",
        "\n",
        "and B'' is an orthonormal basis for R3\n",
        "\n",
        "[[ 0.          0.70710678  0.70710678]\n",
        " [ 0.81649658  0.40824829 -0.40824829]\n",
        " [ 0.57735027 -0.57735027  0.57735027]]\n",
        "```\n",
        "\n"
      ]
    },
    {
      "metadata": {
        "id": "CDzcbftFVMzP",
        "colab_type": "code",
        "colab": {
          "base_uri": "https://localhost:8080/",
          "height": 369
        },
        "outputId": "f120d860-fcb4-48d8-e652-cd749d684882"
      },
      "cell_type": "code",
      "source": [
        "\"\"\"\n",
        "This python code is for the Gram-Schmidt Orthonormalization Process\n",
        "\n",
        "I used the following API:\n",
        "https://docs.scipy.org/doc/numpy-1.10.0/reference/routines.linalg.html\n",
        "\n",
        "Name: gramSchmidt.py \n",
        "Version: v.1.0.1\n",
        "Written in Python 3\n",
        "By Edgard Parra\n",
        "\"\"\"\n",
        "\n",
        "# Numpy will be used to do most mathematical functions\n",
        "import numpy as np\n",
        "\n",
        "''' Step 1 - Let B be a basis for an inner product space '''\n",
        "\n",
        "B = np.array([[1, 1, 0], [1, 2, 0], [0, 1, 2]])\n",
        "\n",
        "''' Step 2 - Find and orthogonal basis for V, call it W or something '''\n",
        "\n",
        "\n",
        "def gramSchmidt(B):\n",
        "\t''' \n",
        "\tThis function takes a set of vector as input \n",
        "\tand returns an orthonormal basis for it\n",
        "\t'''\n",
        "\t\n",
        "\t# this array will hold the orthogonal basis for V\n",
        "\tb = []\n",
        "\t\n",
        "\t# w1 = v1\n",
        "\tb.append(B[0])\n",
        "    \n",
        "    # The Gram-Schmidt Orthonormalization Process in python for loop\n",
        "\tfor v in B[1:]:\n",
        "\t\t# math = vi - <vi,wi>/<wi,wi> * wi\n",
        "\t\tu = v - np.sum( (np.inner(v,w)/np.inner(w,w) * w) for w in b)\n",
        "\t\t\n",
        "\t\t# append our resultant orthogonal vector\n",
        "\t\tb.append(u)\n",
        "\t\n",
        "\t# b is an orthogonal basis in V\n",
        "\tb = np.array(b)\n",
        "\t\n",
        "\t''' Step 3 - Lets normalize the basis! '''\n",
        "\t\n",
        "\t# this array will hold the orthonormal basis for V\n",
        "\tu = []\n",
        "\t\n",
        "\tfor w in b:\n",
        "\t\t# find the norm of vector w in b\n",
        "\t\tnorm = np.sqrt( np.inner(w,w) )\n",
        "\t\t\n",
        "\t\t# normalize each vector\n",
        "\t\tx = w / norm\n",
        "\t\t\n",
        "\t\t# append our results\n",
        "\t\tu.append(x)\n",
        "\t\n",
        "\t# u is an orthonormal basis in V\n",
        "\tu = np.array(u)\n",
        "\n",
        "\t# print our results for test purposes and should be commented out\n",
        "\t\n",
        "\t# dimension of vector space\n",
        "\tdim = str(len(B))\n",
        "\t\n",
        "\tprint('Given B = \\n')\n",
        "\tprint(B)\n",
        "\t\n",
        "\tprint('\\nB\\' is an orthogonal basis for R' + dim + '\\n')\n",
        "\tprint(b)\n",
        "\t\n",
        "\tprint('\\nand B\\'\\' is an orthonormal basis for R' + dim + '\\n')\n",
        "\tprint(u)\n",
        "\t\n",
        "\t# return orthonormal basis\n",
        "\treturn(u)\n",
        "    \n",
        "# execute the funtion!\n",
        "gramSchmidt(B)"
      ],
      "execution_count": 3,
      "outputs": [
        {
          "output_type": "stream",
          "text": [
            "Given B = \n",
            "\n",
            "[[1 1 0]\n",
            " [1 2 0]\n",
            " [0 1 2]]\n",
            "\n",
            "B' is an orthogonal basis for R3\n",
            "\n",
            "[[ 1.   1.   0. ]\n",
            " [-0.5  0.5  0. ]\n",
            " [ 0.   0.   2. ]]\n",
            "\n",
            "and B'' is an orthonormal basis for R3\n",
            "\n",
            "[[ 0.70710678  0.70710678  0.        ]\n",
            " [-0.70710678  0.70710678  0.        ]\n",
            " [ 0.          0.          1.        ]]\n"
          ],
          "name": "stdout"
        },
        {
          "output_type": "execute_result",
          "data": {
            "text/plain": [
              "array([[ 0.70710678,  0.70710678,  0.        ],\n",
              "       [-0.70710678,  0.70710678,  0.        ],\n",
              "       [ 0.        ,  0.        ,  1.        ]])"
            ]
          },
          "metadata": {
            "tags": []
          },
          "execution_count": 3
        }
      ]
    },
    {
      "metadata": {
        "id": "UBC79YwaTJB3",
        "colab_type": "code",
        "colab": {
          "base_uri": "https://localhost:8080/",
          "height": 386
        },
        "outputId": "9165d29e-d4a9-4aca-8dff-4220a967e697"
      },
      "cell_type": "code",
      "source": [
        "print('Problem 25')\n",
        "B = np.array([[0, 1, 1], [1, 1, 0], [1, 0, 1]])\n",
        "gramSchmidt(B)"
      ],
      "execution_count": 4,
      "outputs": [
        {
          "output_type": "stream",
          "text": [
            "Problem 25\n",
            "Given B = \n",
            "\n",
            "[[0 1 1]\n",
            " [1 1 0]\n",
            " [1 0 1]]\n",
            "\n",
            "B' is an orthogonal basis for R3\n",
            "\n",
            "[[ 0.          1.          1.        ]\n",
            " [ 1.          0.5        -0.5       ]\n",
            " [ 0.66666667 -0.66666667  0.66666667]]\n",
            "\n",
            "and B'' is an orthonormal basis for R3\n",
            "\n",
            "[[ 0.          0.70710678  0.70710678]\n",
            " [ 0.81649658  0.40824829 -0.40824829]\n",
            " [ 0.57735027 -0.57735027  0.57735027]]\n"
          ],
          "name": "stdout"
        },
        {
          "output_type": "execute_result",
          "data": {
            "text/plain": [
              "array([[ 0.        ,  0.70710678,  0.70710678],\n",
              "       [ 0.81649658,  0.40824829, -0.40824829],\n",
              "       [ 0.57735027, -0.57735027,  0.57735027]])"
            ]
          },
          "metadata": {
            "tags": []
          },
          "execution_count": 4
        }
      ]
    }
  ]
}