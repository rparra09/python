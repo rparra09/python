{
  "nbformat": 4,
  "nbformat_minor": 0,
  "metadata": {
    "colab": {
      "name": "Lecture1-Class-Notes.ipynb",
      "version": "0.3.2",
      "provenance": [],
      "collapsed_sections": []
    },
    "kernelspec": {
      "name": "python3",
      "display_name": "Python 3"
    }
  },
  "cells": [
    {
      "metadata": {
        "id": "V5iJcK_qkOFz",
        "colab_type": "code",
        "colab": {
          "base_uri": "https://localhost:8080/",
          "height": 34
        },
        "outputId": "00897aab-3027-4551-d0d8-8a78fbd2ae2e"
      },
      "cell_type": "code",
      "source": [
        "# this is a comment\n",
        "# hey \n",
        "# hi\n",
        "\n",
        "\"\"\"tjkhakjd\n",
        "sadskgjd\n",
        "ahjsgdjkhas\"\"\"\n",
        "\n",
        "print('Hello world')"
      ],
      "execution_count": 1,
      "outputs": [
        {
          "output_type": "stream",
          "text": [
            "Hello world\n"
          ],
          "name": "stdout"
        }
      ]
    },
    {
      "metadata": {
        "id": "sQy4fgRYkxvk",
        "colab_type": "code",
        "colab": {
          "base_uri": "https://localhost:8080/",
          "height": 34
        },
        "outputId": "ac029b09-cc2c-49c3-f592-71f6cc8754d6"
      },
      "cell_type": "code",
      "source": [
        "print('Edgard')"
      ],
      "execution_count": 0,
      "outputs": [
        {
          "output_type": "stream",
          "text": [
            "Edgard\n"
          ],
          "name": "stdout"
        }
      ]
    },
    {
      "metadata": {
        "id": "9yfNvTSgk1tm",
        "colab_type": "code",
        "colab": {
          "base_uri": "https://localhost:8080/",
          "height": 34
        },
        "outputId": "2ca06578-c741-4cff-e188-d1abf34da4aa"
      },
      "cell_type": "code",
      "source": [
        "print(\"Edgard\")"
      ],
      "execution_count": 0,
      "outputs": [
        {
          "output_type": "stream",
          "text": [
            "Edgard\n"
          ],
          "name": "stdout"
        }
      ]
    },
    {
      "metadata": {
        "id": "q2LBRI4pk9Ed",
        "colab_type": "code",
        "colab": {
          "base_uri": "https://localhost:8080/",
          "height": 34
        },
        "outputId": "6a23afaf-d30b-4f1e-b13e-cb081a2839d2"
      },
      "cell_type": "code",
      "source": [
        "print('this is a string')"
      ],
      "execution_count": 0,
      "outputs": [
        {
          "output_type": "stream",
          "text": [
            "this is a string\n"
          ],
          "name": "stdout"
        }
      ]
    },
    {
      "metadata": {
        "id": "KNHBBuXllEY1",
        "colab_type": "code",
        "colab": {
          "base_uri": "https://localhost:8080/",
          "height": 51
        },
        "outputId": "635319bc-b910-4a6f-bf25-3f332c149af0"
      },
      "cell_type": "code",
      "source": [
        "print('new line \\n hi')"
      ],
      "execution_count": 0,
      "outputs": [
        {
          "output_type": "stream",
          "text": [
            "new line \n",
            " hi\n"
          ],
          "name": "stdout"
        }
      ]
    },
    {
      "metadata": {
        "id": "L1Va1RkQlLd-",
        "colab_type": "code",
        "colab": {
          "base_uri": "https://localhost:8080/",
          "height": 51
        },
        "outputId": "035f3acd-2051-45e4-db57-46053939c814"
      },
      "cell_type": "code",
      "source": [
        "print('new line \\n \\t second line')"
      ],
      "execution_count": 0,
      "outputs": [
        {
          "output_type": "stream",
          "text": [
            "new line \n",
            " \t second line\n"
          ],
          "name": "stdout"
        }
      ]
    },
    {
      "metadata": {
        "id": "7UEtA1nZlXuM",
        "colab_type": "code",
        "colab": {
          "base_uri": "https://localhost:8080/",
          "height": 34
        },
        "outputId": "32105f15-b376-4b6d-d954-691bf201fb3e"
      },
      "cell_type": "code",
      "source": [
        "print('Edgard\\'s stuff')"
      ],
      "execution_count": 0,
      "outputs": [
        {
          "output_type": "stream",
          "text": [
            "Edgard's stuff\n"
          ],
          "name": "stdout"
        }
      ]
    },
    {
      "metadata": {
        "id": "2N66eI8clixE",
        "colab_type": "code",
        "colab": {
          "base_uri": "https://localhost:8080/",
          "height": 68
        },
        "outputId": "103daf14-cd35-4988-9424-e07373a75d7b"
      },
      "cell_type": "code",
      "source": [
        "print('Edgard\\'s stuff: \\n\\t\"A laptop\"\\n\\t\"a backpack\"')"
      ],
      "execution_count": 0,
      "outputs": [
        {
          "output_type": "stream",
          "text": [
            "Edgard's stuff: \n",
            "\t\"A laptop\"\n",
            "\t\"a backpack\"\n"
          ],
          "name": "stdout"
        }
      ]
    },
    {
      "metadata": {
        "id": "uyM7h0BDl5eU",
        "colab_type": "code",
        "colab": {
          "base_uri": "https://localhost:8080/",
          "height": 34
        },
        "outputId": "ef2c1e34-354d-4abb-f114-e8682519e831"
      },
      "cell_type": "code",
      "source": [
        "print('he said, \"hi\" ')"
      ],
      "execution_count": 0,
      "outputs": [
        {
          "output_type": "stream",
          "text": [
            "he said, \"hi\" \n"
          ],
          "name": "stdout"
        }
      ]
    },
    {
      "metadata": {
        "id": "Fq866ratmAJt",
        "colab_type": "code",
        "colab": {
          "base_uri": "https://localhost:8080/",
          "height": 34
        },
        "outputId": "1810987c-db5b-428f-b76e-b796913847b5"
      },
      "cell_type": "code",
      "source": [
        "print(\"he said, 'hi' \")"
      ],
      "execution_count": 0,
      "outputs": [
        {
          "output_type": "stream",
          "text": [
            "he said, 'hi' \n"
          ],
          "name": "stdout"
        }
      ]
    },
    {
      "metadata": {
        "id": "p6XfkLuzmcr9",
        "colab_type": "code",
        "colab": {
          "base_uri": "https://localhost:8080/",
          "height": 34
        },
        "outputId": "5e51d7f6-c959-4d1e-ad37-1afaa34e8200"
      },
      "cell_type": "code",
      "source": [
        "x = 3\n",
        "print(x)"
      ],
      "execution_count": 0,
      "outputs": [
        {
          "output_type": "stream",
          "text": [
            "3\n"
          ],
          "name": "stdout"
        }
      ]
    },
    {
      "metadata": {
        "id": "i15lYCl_mv2r",
        "colab_type": "code",
        "colab": {
          "base_uri": "https://localhost:8080/",
          "height": 34
        },
        "outputId": "0be98a28-8c38-440d-94f3-8f02a18a0136"
      },
      "cell_type": "code",
      "source": [
        "myName = \"Edgard\"\n",
        "print('myName')"
      ],
      "execution_count": 0,
      "outputs": [
        {
          "output_type": "stream",
          "text": [
            "myName\n"
          ],
          "name": "stdout"
        }
      ]
    },
    {
      "metadata": {
        "id": "oPsksQRQm6M8",
        "colab_type": "code",
        "colab": {
          "base_uri": "https://localhost:8080/",
          "height": 34
        },
        "outputId": "aabb1031-51cc-402d-b883-42c890039d4e"
      },
      "cell_type": "code",
      "source": [
        "myName = \"Edgard\"\n",
        "print(myName)"
      ],
      "execution_count": 0,
      "outputs": [
        {
          "output_type": "stream",
          "text": [
            "Edgard\n"
          ],
          "name": "stdout"
        }
      ]
    },
    {
      "metadata": {
        "id": "b5UMal-9nFhi",
        "colab_type": "code",
        "colab": {
          "base_uri": "https://localhost:8080/",
          "height": 34
        },
        "outputId": "4f2ebb0b-8836-435b-8451-7edf6c11d463"
      },
      "cell_type": "code",
      "source": [
        "x = 3\n",
        "print(x)"
      ],
      "execution_count": 0,
      "outputs": [
        {
          "output_type": "stream",
          "text": [
            "3\n"
          ],
          "name": "stdout"
        }
      ]
    },
    {
      "metadata": {
        "id": "zxNzL541nOyT",
        "colab_type": "code",
        "colab": {
          "base_uri": "https://localhost:8080/",
          "height": 51
        },
        "outputId": "74288fce-98ef-48f2-90ac-200bd3fa57b7"
      },
      "cell_type": "code",
      "source": [
        "myAge = 30\n",
        "print(myAge)\n",
        "type(myAge)"
      ],
      "execution_count": 0,
      "outputs": [
        {
          "output_type": "stream",
          "text": [
            "30\n"
          ],
          "name": "stdout"
        },
        {
          "output_type": "execute_result",
          "data": {
            "text/plain": [
              "int"
            ]
          },
          "metadata": {
            "tags": []
          },
          "execution_count": 30
        }
      ]
    },
    {
      "metadata": {
        "id": "VbH1u4cWnfO8",
        "colab_type": "code",
        "colab": {
          "base_uri": "https://localhost:8080/",
          "height": 68
        },
        "outputId": "21993d2b-0bee-4e2e-8ab8-eb665c559141"
      },
      "cell_type": "code",
      "source": [
        "myName = 'Edgard'\n",
        "myAge = 30\n",
        "cash = 5.60\n",
        "\n",
        "print(type(myName))\n",
        "\n",
        "print(type(myAge))\n",
        "\n",
        "print(type(cash))"
      ],
      "execution_count": 0,
      "outputs": [
        {
          "output_type": "stream",
          "text": [
            "<class 'str'>\n",
            "<class 'int'>\n",
            "<class 'float'>\n"
          ],
          "name": "stdout"
        }
      ]
    },
    {
      "metadata": {
        "id": "X3OwBd2coVV6",
        "colab_type": "code",
        "colab": {
          "base_uri": "https://localhost:8080/",
          "height": 51
        },
        "outputId": "3fa8685f-66ea-4bcf-c434-77f273d196e6"
      },
      "cell_type": "code",
      "source": [
        "cash = '5.6'\n",
        "print(type(cash))\n",
        "\n",
        "cash = float(cash)\n",
        "print(type(cash))"
      ],
      "execution_count": 0,
      "outputs": [
        {
          "output_type": "stream",
          "text": [
            "<class 'str'>\n",
            "<class 'float'>\n"
          ],
          "name": "stdout"
        }
      ]
    },
    {
      "metadata": {
        "id": "Pv-ANi40o3rR",
        "colab_type": "code",
        "colab": {
          "base_uri": "https://localhost:8080/",
          "height": 34
        },
        "outputId": "a9c315cd-be6a-457f-c024-678e4b08a12d"
      },
      "cell_type": "code",
      "source": [
        "x = 3\n",
        "y = 4\n",
        "print(x + y)"
      ],
      "execution_count": 0,
      "outputs": [
        {
          "output_type": "stream",
          "text": [
            "7\n"
          ],
          "name": "stdout"
        }
      ]
    },
    {
      "metadata": {
        "id": "NHgtzxKmpHGx",
        "colab_type": "code",
        "colab": {
          "base_uri": "https://localhost:8080/",
          "height": 136
        },
        "outputId": "ee53665e-1414-4610-d9d4-008cdfb7858c"
      },
      "cell_type": "code",
      "source": [
        "myName = input('Your Name: ')\n",
        "myAge = input('Your age: ')\n",
        "\n",
        "myAge = float(myAge) # turn this into a float to avoid errors\n",
        "\n",
        "myAge = round(myAge) # this rounds the number \n",
        "\n",
        "print(myName)\n",
        "print(type(myName))\n",
        "\n",
        "print(myAge)\n",
        "print(type(myAge))\n",
        "\n",
        "result = myAge + 5\n",
        "print('result', result)"
      ],
      "execution_count": 0,
      "outputs": [
        {
          "output_type": "stream",
          "text": [
            "Your Name: Ed\n",
            "Your age: 30.6\n",
            "Ed\n",
            "<class 'str'>\n",
            "31\n",
            "<class 'int'>\n",
            "result 36\n"
          ],
          "name": "stdout"
        }
      ]
    },
    {
      "metadata": {
        "id": "953nDiR8sZLz",
        "colab_type": "code",
        "colab": {
          "base_uri": "https://localhost:8080/",
          "height": 34
        },
        "outputId": "b23f91b2-b27f-4a93-c0f5-30dbf706f257"
      },
      "cell_type": "code",
      "source": [
        "myCircumference = 3 # in inches\n",
        "myPi = 3.14\n",
        "myResult = myPi * myCircumference\n",
        "print(myResult)"
      ],
      "execution_count": 0,
      "outputs": [
        {
          "output_type": "stream",
          "text": [
            "9.42\n"
          ],
          "name": "stdout"
        }
      ]
    }
  ]
}