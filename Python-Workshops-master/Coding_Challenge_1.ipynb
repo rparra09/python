{
  "nbformat": 4,
  "nbformat_minor": 0,
  "metadata": {
    "colab": {
      "name": "Coding-Challenge-1.ipynb",
      "version": "0.3.2",
      "provenance": [],
      "collapsed_sections": []
    },
    "kernelspec": {
      "name": "python3",
      "display_name": "Python 3"
    }
  },
  "cells": [
    {
      "metadata": {
        "id": "3fwDUHL9VemF",
        "colab_type": "text"
      },
      "cell_type": "markdown",
      "source": [
        "# Coding Challenge 1\n",
        "The challenge is to turn the quadratic equation into a python 3 function. \n",
        "\n",
        "---\n",
        "\n",
        "The general quadratic equation is:\n",
        "\n",
        "![alt text](https://wikimedia.org/api/rest_v1/media/math/render/svg/23e70cfa003f402d108ec04d97983fb62f69536e)\n",
        "\n",
        "Where **a**, **b**, and **c** are constants. Solving for x gives us the quadratic equation:\n",
        "\n",
        "![alt text](https://wikimedia.org/api/rest_v1/media/math/render/svg/2a9804ca8ce019507e3199ca8fced800fb5b7d7c)\n",
        "\n",
        "There are two considerations about this formula:\n",
        "\n",
        "\n",
        "1.   **a** cannot equal zero\n",
        "2.   The descriminant cannot equal a negative number (or we get complex numbers)\n",
        "\n",
        "![alt text](https://image.ibb.co/crWPB9/dis_2.png)\n",
        "\n",
        "Since our solutions lives in real space, don't let our python function divide by zero or output complex numbers!"
      ]
    },
    {
      "metadata": {
        "id": "SJ_8HBFrWPc2",
        "colab_type": "text"
      },
      "cell_type": "markdown",
      "source": [
        "From the previous class we wrote the following function:"
      ]
    },
    {
      "metadata": {
        "id": "EfgVQLhHa_IX",
        "colab_type": "code",
        "colab": {}
      },
      "cell_type": "code",
      "source": [
        "def quadraticEquation(a,b,c):\n",
        "  a = float(a)\n",
        "  b = float(b)\n",
        "  c = float(c)\n",
        "  \n",
        "  numerator1 = b*(-1) + (b**2 - 4*a*c)**(1/2)\n",
        "  numerator2 = b*(-1) - (b**2 - 4*a*c)**(1/2)\n",
        "  denumerator = 2*a\n",
        "\n",
        "  result1 = numerator1 / denumerator\n",
        "  result2 = numerator2 / denumerator\n",
        "  \n",
        "  return result1, result2"
      ],
      "execution_count": 0,
      "outputs": []
    },
    {
      "metadata": {
        "id": "rPO3VYWIblkD",
        "colab_type": "text"
      },
      "cell_type": "markdown",
      "source": [
        "Your job is to write **if/else** statements to handle problems with:\n",
        "\n",
        "1.   Dividing by zero\n",
        "2.   Don't let the function output complex numbers. \n",
        "\n"
      ]
    },
    {
      "metadata": {
        "id": "A1vpvlyobexc",
        "colab_type": "code",
        "colab": {}
      },
      "cell_type": "code",
      "source": [
        "\"\"\"\n",
        "  Example of passing data through your function.\n",
        "  You may change this, you're the boss!\n",
        "\n",
        "\"\"\"\n",
        "\n",
        "myData = [[0,1,2],  # cant devide by zero\n",
        "          [0,1,89], # cant devide by zero\n",
        "          [1,1,2],  # complex solution\n",
        "          [1,2,1],  # real solution\n",
        "          [1,2,8],  # complex solution\n",
        "          [1,3,2]]  # real olution\n",
        "\n",
        "# declre empty list for storing solutions\n",
        "mySolutions = []\n",
        "\n",
        "for row in myData:\n",
        "  roots = quadraticEquation(row[0],row[1],row[2])\n",
        "  mySolutions.append(roots)\n",
        "  \n",
        "print(mySolutions)"
      ],
      "execution_count": 0,
      "outputs": []
    },
    {
      "metadata": {
        "id": "GAWkeb9Udr2X",
        "colab_type": "text"
      },
      "cell_type": "markdown",
      "source": [
        "If you use the data above, your solutions should output something like:\n",
        "\n",
        "\n",
        "\n",
        "```\n",
        "[[-1.0, -1.0], [-1.0, -2.0]]\n",
        "```\n",
        "\n",
        "You may use numpy, but FYI numpy solves for **x** when **a** equals zero!!!! We want to apply the quadratic equation or do nothing."
      ]
    }
  ]
}
