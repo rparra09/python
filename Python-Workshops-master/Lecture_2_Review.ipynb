{
  "nbformat": 4,
  "nbformat_minor": 0,
  "metadata": {
    "colab": {
      "name": "Lecture-2-Class-Notes.ipynb",
      "version": "0.3.2",
      "provenance": []
    },
    "kernelspec": {
      "name": "python3",
      "display_name": "Python 3"
    }
  },
  "cells": [
    {
      "metadata": {
        "id": "uLJXtwveCL_J",
        "colab_type": "text"
      },
      "cell_type": "markdown",
      "source": [
        "# Python3 - Workshop #2\n",
        "Introduction to Lists, Tuples, Sets, Dictionaries, and Arrays"
      ]
    },
    {
      "metadata": {
        "id": "YiRL_i6zDGhZ",
        "colab_type": "text"
      },
      "cell_type": "markdown",
      "source": [
        "## Review from last workshop\n",
        "Unlike other programming languages, Python has no command for declaring a variable.\n",
        "\n",
        "A variable is created the moment you first assign a value to it."
      ]
    },
    {
      "metadata": {
        "id": "O0Y8BYAcDOQ7",
        "colab_type": "code",
        "colab": {}
      },
      "cell_type": "code",
      "source": [
        "x = 3            # x is the variable, 3 is the value we assigned, this is an interger\n",
        "y = 3.14         # y is the variable, 3.14 is the value we assigned, this is a float\n",
        "z = 'Some Text'  # z is the variable, 'Some Text' is the value we assigned, this is a string\n",
        "\n",
        "print('x = ', x, type(x))\n",
        "print('y = ', y, type(y))\n",
        "print('z = ', z, type(z))"
      ],
      "execution_count": 0,
      "outputs": []
    },
    {
      "metadata": {
        "id": "iaQlvxzfEuE-",
        "colab_type": "text"
      },
      "cell_type": "markdown",
      "source": [
        "### Specify a Variable Type\n",
        "There may be times when you want to specify a type on to a variable. This can be done with casting. Python is an object-orientated language, and as such it uses classes to define data types, including its primitive types.\n",
        "\n",
        "Casting in python is therefore done using constructor functions:"
      ]
    },
    {
      "metadata": {
        "id": "Qs2pcULkHTRG",
        "colab_type": "text"
      },
      "cell_type": "markdown",
      "source": [
        "#### Intergers - int()"
      ]
    },
    {
      "metadata": {
        "id": "kQK1u2EkE4GL",
        "colab_type": "code",
        "colab": {}
      },
      "cell_type": "code",
      "source": [
        "\"\"\"Intergers\"\"\"\n",
        "\n",
        "x = 3            # x is the variable, 3 is the value we assigned, this is an interger\n",
        "y = 3.14         # y is the variable, 3.14 is the value we assigned, this is a float\n",
        "z = '3'          # z is the variable, '3' is the value we assigned, this is a string\n",
        "\n",
        "print('x = ', x, type(x))\n",
        "print('y = ', y, type(y))\n",
        "print('z = ', z, type(z))\n",
        "\n",
        "print('\\n' + 'Lets turn all the variables into intergers' + '\\n')\n",
        "\n",
        "x = int(x)\n",
        "y = int(y)\n",
        "z = int(z)\n",
        "\n",
        "print('x = ', x, type(x))\n",
        "print('y = ', y, type(y))\n",
        "print('z = ', z, type(z))"
      ],
      "execution_count": 0,
      "outputs": []
    },
    {
      "metadata": {
        "id": "9QT13R73HYuN",
        "colab_type": "text"
      },
      "cell_type": "markdown",
      "source": [
        "#### Float - float()"
      ]
    },
    {
      "metadata": {
        "id": "x6Q4CWXnGZ3_",
        "colab_type": "code",
        "colab": {}
      },
      "cell_type": "code",
      "source": [
        "\"\"\"Float\"\"\"\n",
        "\n",
        "x = 3            # x is the variable, 3 is the value we assigned, this is an interger\n",
        "y = 3.14         # y is the variable, 3.14 is the value we assigned, this is a float\n",
        "z = '3'          # z is the variable, '3' is the value we assigned, this is a string\n",
        "\n",
        "print('x = ', x, type(x))\n",
        "print('y = ', y, type(y))\n",
        "print('z = ', z, type(z))\n",
        "\n",
        "print('\\n' + 'Lets turn all the variables into floats' + '\\n')\n",
        "\n",
        "x = float(x)\n",
        "y = float(y)\n",
        "z = float(z)\n",
        "\n",
        "print('x = ', x, type(x))\n",
        "print('y = ', y, type(y))\n",
        "print('z = ', z, type(z))"
      ],
      "execution_count": 0,
      "outputs": []
    },
    {
      "metadata": {
        "id": "Stt_kXr1Hh0k",
        "colab_type": "text"
      },
      "cell_type": "markdown",
      "source": [
        "#### Strings - str()"
      ]
    },
    {
      "metadata": {
        "id": "Hl2GgrRcG6MK",
        "colab_type": "code",
        "colab": {}
      },
      "cell_type": "code",
      "source": [
        "\"\"\"Strings\"\"\"\n",
        "\n",
        "x = 3            # x is the variable, 3 is the value we assigned, this is an interger\n",
        "y = 3.14         # y is the variable, 3.14 is the value we assigned, this is a float\n",
        "z = '3'          # z is the variable, '3' is the value we assigned, this is a string\n",
        "\n",
        "print('x = ', x, type(x))\n",
        "print('y = ', y, type(y))\n",
        "print('z = ', z, type(z))\n",
        "\n",
        "print('\\n' + 'Lets turn all the variables into strings' + '\\n')\n",
        "\n",
        "x = str(x)\n",
        "y = str(y)\n",
        "z = str(z)\n",
        "\n",
        "print('x = ', x, type(x))\n",
        "print('y = ', y, type(y))\n",
        "print('z = ', z, type(z))"
      ],
      "execution_count": 0,
      "outputs": []
    },
    {
      "metadata": {
        "id": "gNq4qz3RKnWQ",
        "colab_type": "text"
      },
      "cell_type": "markdown",
      "source": [
        "### User input\n",
        "For Data Science, I personally recommend you don't let other users input values. If you must, then make sure you write error handling of all the exceptions you can think of. \n",
        "\n",
        "The following is a simple example of how to handle user input. First of all, remember from class that all user input is treated as a string, so if you expect a number then convert it to a float (not an interger)."
      ]
    },
    {
      "metadata": {
        "id": "3XtYMun4Mhz2",
        "colab_type": "code",
        "colab": {}
      },
      "cell_type": "code",
      "source": [
        "# Access your data\n",
        "\n",
        "while True:\n",
        "  try:\n",
        "    yourAge = int(input('How old are you? ')) \n",
        "    # here I used int to get an error if a user inputs a number with decimals\n",
        "  except ValueError:\n",
        "    # this part catches the error and handles it how I want.\n",
        "    # if you don't input a whole number it will just loop infinitely until you\n",
        "    # input a whole number\n",
        "    print('Please enter a whole number')\n",
        "    continue\n",
        "  else:\n",
        "    break \n",
        "\n",
        "# math part\n",
        "yourAge = float(yourAge) #always turn it into a float to avoid errors\n",
        "birthYear = 2018 - yourAge\n",
        "birthYear = int(round(birthYear))\n",
        "\n",
        "# display your data\n",
        "print('You where born on', birthYear)"
      ],
      "execution_count": 0,
      "outputs": []
    },
    {
      "metadata": {
        "id": "jCze33bCSEoE",
        "colab_type": "text"
      },
      "cell_type": "markdown",
      "source": [
        "## Python Collections (Arrays)\n",
        "There are four collection data types in the Python programming language:\n",
        "\n",
        "* **List** is a collection which is ordered and changeable. Allows duplicate members.\n",
        "* **Tuple** is a collection which is ordered and unchangeable. Allows duplicate members.\n",
        "* **Set** is a collection which is unordered and unindexed. No duplicate members.\n",
        "* **Dictionary** is a collection which is unordered, changeable and indexed. No duplicate members.\n",
        "\n"
      ]
    },
    {
      "metadata": {
        "id": "S_n_ifknTbpc",
        "colab_type": "text"
      },
      "cell_type": "markdown",
      "source": [
        "### Lists\n",
        "A list is a collection which is ordered and changeable. In Python lists are written with square brackets."
      ]
    },
    {
      "metadata": {
        "id": "LYs9F4aSTtm8",
        "colab_type": "code",
        "colab": {}
      },
      "cell_type": "code",
      "source": [
        "aList = [\"apple\", \"banana\", \"cherry\"]\n",
        "print(aList, type(aList))"
      ],
      "execution_count": 0,
      "outputs": []
    },
    {
      "metadata": {
        "id": "sSYftF8lUBpz",
        "colab_type": "text"
      },
      "cell_type": "markdown",
      "source": [
        "### Tuple\n",
        "A tuple is a collection which is ordered and unchangeable. In Python tuples are written with round brackets."
      ]
    },
    {
      "metadata": {
        "id": "SatjDhmpUFV9",
        "colab_type": "code",
        "colab": {}
      },
      "cell_type": "code",
      "source": [
        "aTuple = (\"apple\", \"banana\", \"cherry\")\n",
        "print(aTuple,type(aTuple))"
      ],
      "execution_count": 0,
      "outputs": []
    },
    {
      "metadata": {
        "id": "xmzHxccYUaXx",
        "colab_type": "text"
      },
      "cell_type": "markdown",
      "source": [
        "### Set\n",
        "A set is a collection which is unordered and unindexed. In Python sets are written with curly brackets."
      ]
    },
    {
      "metadata": {
        "id": "FN6mN0VnUiDK",
        "colab_type": "code",
        "colab": {}
      },
      "cell_type": "code",
      "source": [
        "aSet = {\"apple\", \"banana\", \"cherry\"}\n",
        "print(aSet,type(aSet))"
      ],
      "execution_count": 0,
      "outputs": []
    },
    {
      "metadata": {
        "id": "WS6Tz3JyUx94",
        "colab_type": "text"
      },
      "cell_type": "markdown",
      "source": [
        "### Dictionary\n",
        "A dictionary is a collection which is unordered, changeable and indexed. In Python dictionaries are written with curly brackets, and they have keys and values."
      ]
    },
    {
      "metadata": {
        "id": "9i0vbE7TU1x6",
        "colab_type": "code",
        "colab": {}
      },
      "cell_type": "code",
      "source": [
        "aDictionary =\t{\n",
        "  \"Name\": \"Edgard Parra\",\n",
        "  \"School\": \"San Diego Mesa College\",\n",
        "  \"year\": 2018\n",
        "}\n",
        "print(aDictionary,type(aDictionary))"
      ],
      "execution_count": 0,
      "outputs": []
    },
    {
      "metadata": {
        "id": "757_bprBVQnA",
        "colab_type": "text"
      },
      "cell_type": "markdown",
      "source": [
        "## Python3 - Lists\n",
        "Lets manipulate lists"
      ]
    },
    {
      "metadata": {
        "id": "eQDoOttCWH64",
        "colab_type": "code",
        "colab": {}
      },
      "cell_type": "code",
      "source": [
        "# we have a list of items\n",
        "\n",
        "myGroceryList = ['apple','banana','potato', 'milk']\n",
        "\n",
        "#lets find out how many items are on the lists\n",
        "print(len(myGroceryList))"
      ],
      "execution_count": 0,
      "outputs": []
    },
    {
      "metadata": {
        "id": "jPj4_p7QX0rZ",
        "colab_type": "code",
        "colab": {}
      },
      "cell_type": "code",
      "source": [
        "# List index\n",
        "print('index 0 =',myGroceryList[0])\n",
        "print('index 1 =',myGroceryList[1])\n",
        "print('index 2 =',myGroceryList[2])\n",
        "print('index 3 =',myGroceryList[3])"
      ],
      "execution_count": 0,
      "outputs": []
    },
    {
      "metadata": {
        "id": "IryQYCoyZgG1",
        "colab_type": "code",
        "colab": {}
      },
      "cell_type": "code",
      "source": [
        "# lets add more items to a list\n",
        "myGroceryList.append('coconut')\n",
        "print('List lenght =',len(myGroceryList))\n",
        "print(myGroceryList)"
      ],
      "execution_count": 0,
      "outputs": []
    },
    {
      "metadata": {
        "id": "fWixqKibju09",
        "colab_type": "text"
      },
      "cell_type": "markdown",
      "source": [
        "### List Built in functions\n",
        "\n",
        "* **append()**\tAdds an element at the end of the list\n",
        "* **clear()**\tRemoves all the elements from the list\n",
        "* **copy()**\tReturns a copy of the list\n",
        "* **count()**\tReturns the number of elements with the specified value\n",
        "* **extend()**\tAdd the elements of a list (or any iterable), to the end of the current list\n",
        "* **pop()**\tRemoves the element at the specified position\n",
        "* **remove()**\tRemoves the first item with the specified value\n",
        "* **reverse()**\tReverses the order of the list\n",
        "* **sort()**\tSorts the list\n",
        "\n",
        "### Data Structures\n",
        "https://docs.python.org/3/tutorial/datastructures.html"
      ]
    },
    {
      "metadata": {
        "id": "Kg8EAIZsk6o8",
        "colab_type": "code",
        "colab": {
          "base_uri": "https://localhost:8080/",
          "height": 102
        },
        "outputId": "402f3045-e6e6-43b4-8099-5203a3a0e881"
      },
      "cell_type": "code",
      "source": [
        "# multidimensional list\n",
        "a = [[1, 2, 3], \n",
        "     [4, 5, 6],\n",
        "     [7, 8, 9]]\n",
        "\n",
        "print(a[0][0])\n",
        "print(a[1][0])\n",
        "print(a[2][0])\n",
        "\n",
        "b = a[0:3]\n",
        "c = a[0]\n",
        "\n",
        "print(b, type(b))\n",
        "print(c, type(c))"
      ],
      "execution_count": 1,
      "outputs": [
        {
          "output_type": "stream",
          "text": [
            "1\n",
            "4\n",
            "7\n",
            "[[1, 2, 3], [4, 5, 6], [7, 8, 9]] <class 'list'>\n",
            "[1, 2, 3] <class 'list'>\n"
          ],
          "name": "stdout"
        }
      ]
    }
  ]
}
