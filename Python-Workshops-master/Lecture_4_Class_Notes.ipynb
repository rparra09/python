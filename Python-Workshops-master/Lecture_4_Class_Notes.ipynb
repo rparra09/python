{
  "nbformat": 4,
  "nbformat_minor": 0,
  "metadata": {
    "colab": {
      "name": "Lecture_4_Class_Notes.ipynb",
      "version": "0.3.2",
      "provenance": []
    },
    "kernelspec": {
      "name": "python3",
      "display_name": "Python 3"
    }
  },
  "cells": [
    {
      "metadata": {
        "id": "3qzf8FPn3u60",
        "colab_type": "text"
      },
      "cell_type": "markdown",
      "source": [
        "# Python Workshop - Lecture 4\n",
        "From previous lecture we created a math function for the quadratic equation."
      ]
    },
    {
      "metadata": {
        "id": "bgc-nXOS3xiY",
        "colab_type": "code",
        "colab": {
          "base_uri": "https://localhost:8080/",
          "height": 35
        },
        "outputId": "c10d2eac-f811-4ab0-fd81-21fb10a97976"
      },
      "cell_type": "code",
      "source": [
        "def quadEQ(a,b,c):\n",
        "  # a,b,c are our input. We expect numbers, but lets turn them into floats to avoid errors.\n",
        "  a = float(a)\n",
        "  b = float(b)\n",
        "  c = float(c)\n",
        "  \n",
        "  numerator1 = b*(-1) + (b**2 - 4*a*c)**(1/2)\n",
        "  numerator2 = b*(-1) - (b**2 - 4*a*c)**(1/2)\n",
        "  denumerator = 2*a\n",
        "\n",
        "  result1 = numerator1 / denumerator\n",
        "  result2 = numerator2 / denumerator\n",
        "  \n",
        "  aList = [result1,result2]\n",
        "  \n",
        "  #print(result1,',',result2)\n",
        "  return aList\n",
        "\n",
        "ourResult = quadEQ(1,1,-6)\n",
        "\n",
        "print(ourResult, type(ourResult))"
      ],
      "execution_count": 5,
      "outputs": [
        {
          "output_type": "stream",
          "text": [
            "[2.0, -3.0] <class 'list'>\n"
          ],
          "name": "stdout"
        }
      ]
    },
    {
      "metadata": {
        "id": "3hId-E_-4EZs",
        "colab_type": "text"
      },
      "cell_type": "markdown",
      "source": [
        "## Python Operators\n",
        "if (true):\n",
        "  do this\n",
        "else:\n",
        "  the above was false so do this"
      ]
    },
    {
      "metadata": {
        "id": "aN4j4GW04bd5",
        "colab_type": "code",
        "colab": {
          "base_uri": "https://localhost:8080/",
          "height": 35
        },
        "outputId": "64e02208-3011-4aed-e8ca-4afe8d3576d7"
      },
      "cell_type": "code",
      "source": [
        "x = 4\n",
        "y = 3\n",
        "\n",
        "if x < y:\n",
        "  print('yes!')\n",
        "else:\n",
        "  print('no')"
      ],
      "execution_count": 10,
      "outputs": [
        {
          "output_type": "stream",
          "text": [
            "no\n"
          ],
          "name": "stdout"
        }
      ]
    },
    {
      "metadata": {
        "id": "JCfLyCOE6scp",
        "colab_type": "code",
        "colab": {
          "base_uri": "https://localhost:8080/",
          "height": 35
        },
        "outputId": "e77314a9-3d7a-4bec-c41e-adb62ce4de91"
      },
      "cell_type": "code",
      "source": [
        "'''version 1'''\n",
        "height = 3\n",
        "\n",
        "if height < 3:\n",
        "  print('you are too short')\n",
        "if height >= 3:\n",
        "  print('welcome aboard')"
      ],
      "execution_count": 15,
      "outputs": [
        {
          "output_type": "stream",
          "text": [
            "welcome aboard\n"
          ],
          "name": "stdout"
        }
      ]
    },
    {
      "metadata": {
        "id": "usD2Zp7m7MVA",
        "colab_type": "code",
        "colab": {
          "base_uri": "https://localhost:8080/",
          "height": 35
        },
        "outputId": "4b105e0b-b38e-4c4d-f2aa-248a1a4e5b5d"
      },
      "cell_type": "code",
      "source": [
        "height = 2\n",
        "\n",
        "if height < 3:\n",
        "  print('you are too short')\n",
        "else:\n",
        "  print('welcome aboard')"
      ],
      "execution_count": 22,
      "outputs": [
        {
          "output_type": "stream",
          "text": [
            "you are too short\n"
          ],
          "name": "stdout"
        }
      ]
    },
    {
      "metadata": {
        "id": "rGKa_9tm7nQV",
        "colab_type": "code",
        "colab": {
          "base_uri": "https://localhost:8080/",
          "height": 87
        },
        "outputId": "558c8230-d488-400e-9515-2e778c218cee"
      },
      "cell_type": "code",
      "source": [
        "x = 5\n",
        "y = 8\n",
        "\n",
        "if x < y:\n",
        "  print('x is less than y')\n",
        "if x > y:\n",
        "  print('x is greater than y')\n",
        "if x >= y:\n",
        "  print('x is greater than or equal to y')\n",
        "if x <= y:\n",
        "  print('x is less than or equal to y')\n",
        "if x == y:\n",
        "  print('x = y')\n",
        "if x != y:\n",
        "  print('x is not equal to y')\n",
        "if x is y:\n",
        "  print('x is y')\n",
        "if x is not y:\n",
        "  print('x is not y')\n",
        "  "
      ],
      "execution_count": 29,
      "outputs": [
        {
          "output_type": "stream",
          "text": [
            "x is less than y\n",
            "x is less than or equal to y\n",
            "x is not equal to y\n",
            "x is not y\n"
          ],
          "name": "stdout"
        }
      ]
    },
    {
      "metadata": {
        "id": "oTn5h5SY8okm",
        "colab_type": "text"
      },
      "cell_type": "markdown",
      "source": [
        "**=** VS **==** VS **is**"
      ]
    },
    {
      "metadata": {
        "id": "-HEjh0A48sqV",
        "colab_type": "code",
        "colab": {
          "base_uri": "https://localhost:8080/",
          "height": 35
        },
        "outputId": "d95eb7b2-8e17-4059-be55-fd4c044e09ce"
      },
      "cell_type": "code",
      "source": [
        "x = 3 \n",
        "x == 4"
      ],
      "execution_count": 24,
      "outputs": [
        {
          "output_type": "execute_result",
          "data": {
            "text/plain": [
              "False"
            ]
          },
          "metadata": {
            "tags": []
          },
          "execution_count": 24
        }
      ]
    },
    {
      "metadata": {
        "id": "E7b8gW6q9FYz",
        "colab_type": "code",
        "colab": {
          "base_uri": "https://localhost:8080/",
          "height": 35
        },
        "outputId": "61196a57-2683-4bf6-aec0-967f590f562e"
      },
      "cell_type": "code",
      "source": [
        "x = 3\n",
        "y = 4.0\n",
        "z = 4\n",
        "\n",
        "if x is y:\n",
        "  print('x is y')\n",
        "if x is z:\n",
        "  print('x is z')\n",
        "if y is z:\n",
        "  print('y is z')\n",
        "if x == y:\n",
        "  print('x == y')\n",
        "if x == z:\n",
        "  print('x == z')\n",
        "if y == z:\n",
        "  print('y == z')"
      ],
      "execution_count": 30,
      "outputs": [
        {
          "output_type": "stream",
          "text": [
            "y == z\n"
          ],
          "name": "stdout"
        }
      ]
    },
    {
      "metadata": {
        "id": "Uw5ZfUqd-Ca2",
        "colab_type": "code",
        "colab": {
          "base_uri": "https://localhost:8080/",
          "height": 105
        },
        "outputId": "8ec3fac6-e721-4c7b-c39a-6de0f305bcf3"
      },
      "cell_type": "code",
      "source": [
        "x = 3\n",
        "y = 4.0\n",
        "z = 4\n",
        "\n",
        "if x is not y:\n",
        "  print('x is not y')\n",
        "if x is not z:\n",
        "  print('x is not z')\n",
        "if y is not z:\n",
        "  print('y is not z')\n",
        "if x != y:\n",
        "  print('x != y')\n",
        "if x != z:\n",
        "  print('x != z')\n",
        "if y != z:\n",
        "  print('y != z')"
      ],
      "execution_count": 28,
      "outputs": [
        {
          "output_type": "stream",
          "text": [
            "x is not y\n",
            "x is not z\n",
            "y is not z\n",
            "x == y\n",
            "x == z\n"
          ],
          "name": "stdout"
        }
      ]
    },
    {
      "metadata": {
        "id": "DSM2I1kP_izH",
        "colab_type": "code",
        "colab": {
          "base_uri": "https://localhost:8080/",
          "height": 35
        },
        "outputId": "91061714-528a-41f1-d8be-2dbf8eb69b46"
      },
      "cell_type": "code",
      "source": [
        "a = 2\n",
        "b = 1 \n",
        "c = 20\n",
        "\n",
        "if a < b and b < c:\n",
        "  print('b is in between a and c')\n",
        "  \n",
        "if a < b or b < c:\n",
        "  print('true')"
      ],
      "execution_count": 33,
      "outputs": [
        {
          "output_type": "stream",
          "text": [
            "true\n"
          ],
          "name": "stdout"
        }
      ]
    }
  ]
}