{
  "nbformat": 4,
  "nbformat_minor": 0,
  "metadata": {
    "colab": {
      "name": "Coding-Challenge-2.ipynb",
      "version": "0.3.2",
      "provenance": [],
      "toc_visible": true
    },
    "kernelspec": {
      "name": "python3",
      "display_name": "Python 3"
    }
  },
  "cells": [
    {
      "metadata": {
        "id": "7SzG6gxHRlx1",
        "colab_type": "text"
      },
      "cell_type": "markdown",
      "source": [
        "# Coding Challenge - 2\n",
        "This week we will create a Python 3 function for the Gram-Schmidt Orthonormalization Process. Why? Because you need to be good at making **for loops** to make such a function!\n",
        "\n",
        "\n",
        "**Further reading:**\n",
        "1.   [khanacademy.org](https://www.khanacademy.org/math/linear-algebra/alternate-bases/orthonormal-basis/v/linear-algebra-the-gram-schmidt-process)\n",
        "2.   [wikipedia.org](https://en.wikipedia.org/wiki/Gram%E2%80%93Schmidt_process)\n",
        "\n"
      ]
    },
    {
      "metadata": {
        "id": "CWGfm37zSIUr",
        "colab_type": "text"
      },
      "cell_type": "markdown",
      "source": [
        "## Gram-Schmidt Orthonormalization Process\n",
        "\n",
        "It has three steps.\n",
        "1. Begin with a basis for the inner product space. It need not be orthogonal nor\n",
        "consist of unit vectors.\n",
        "2. Convert the basis to an orthogonal basis.\n",
        "3. Normalize each vector in the orthogonal basis to form an orthonormal basis\n",
        "\n",
        "![alt text](https://image.ibb.co/eU84mL/gs-process.png)"
      ]
    },
    {
      "metadata": {
        "id": "yBF_hvWSVTnh",
        "colab_type": "text"
      },
      "cell_type": "markdown",
      "source": [
        "## The challenge\n",
        "Create a python 3 function to pass a multidimensional list of vectors and appy the gram-schmidt process for orthoganolization.\n",
        "\n",
        "Hint, use numpy to save time! \n",
        "https://docs.scipy.org/doc/numpy-1.15.1/reference/routines.linalg.html\n",
        "\n",
        "**Example output:**\n",
        "\n",
        "```\n",
        "Given B = \n",
        "\n",
        "[[1 1 0]\n",
        " [1 2 0]\n",
        " [0 1 2]]\n",
        "\n",
        "B' is an orthogonal basis for R3\n",
        "\n",
        "[[ 1.   1.   0. ]\n",
        " [-0.5  0.5  0. ]\n",
        " [ 0.   0.   2. ]]\n",
        "\n",
        "and B'' is an orthonormal basis for R3\n",
        "\n",
        "[[ 0.70710678  0.70710678  0.        ]\n",
        " [-0.70710678  0.70710678  0.        ]\n",
        " [ 0.          0.          1.        ]]\n",
        "```\n",
        "\n",
        "**Another example**\n",
        "\n",
        "```\n",
        "Given B = \n",
        "\n",
        "[[0 1 1]\n",
        " [1 1 0]\n",
        " [1 0 1]]\n",
        "\n",
        "B' is an orthogonal basis for R3\n",
        "\n",
        "[[ 0.          1.          1.        ]\n",
        " [ 1.          0.5        -0.5       ]\n",
        " [ 0.66666667 -0.66666667  0.66666667]]\n",
        "\n",
        "and B'' is an orthonormal basis for R3\n",
        "\n",
        "[[ 0.          0.70710678  0.70710678]\n",
        " [ 0.81649658  0.40824829 -0.40824829]\n",
        " [ 0.57735027 -0.57735027  0.57735027]]\n",
        "```\n",
        "\n"
      ]
    },
    {
      "metadata": {
        "id": "CDzcbftFVMzP",
        "colab_type": "code",
        "colab": {}
      },
      "cell_type": "code",
      "source": [
        ""
      ],
      "execution_count": 0,
      "outputs": []
    }
  ]
}