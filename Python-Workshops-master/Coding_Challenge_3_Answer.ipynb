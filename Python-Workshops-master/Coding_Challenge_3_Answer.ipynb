{
  "nbformat": 4,
  "nbformat_minor": 0,
  "metadata": {
    "colab": {
      "name": "Coding-Challenge-3-Answer.ipynb",
      "version": "0.3.2",
      "provenance": [],
      "collapsed_sections": []
    },
    "kernelspec": {
      "name": "python3",
      "display_name": "Python 3"
    }
  },
  "cells": [
    {
      "metadata": {
        "id": "hupjEBOhi5M0",
        "colab_type": "text"
      },
      "cell_type": "markdown",
      "source": [
        "# Coding Challenge 3\n",
        "\n",
        "Imagine you have solar panels and they work at maximum efficiency when they are cut into big squares. Your job is to assemble the solar panels given any amount of material.\n",
        "\n",
        "---\n",
        "\n",
        "For example, if you are given 22 square meters of solar material, you would be able to make one 4x4 square panel (with a total area of 16). That would leave 6 square meters, so you can turn those into one 2x2 square and two 1x1 solar panels. The bigger the square, the more power output.\n",
        "\n",
        "```\n",
        "[16, 4, 1, 1]\n",
        "```\n",
        "---\n",
        "Write a python function that takes the user input and returns a list of areas of the largest squares you can make with the given material. \n",
        "\n",
        "Use the code below to get started!\n"
      ]
    },
    {
      "metadata": {
        "id": "WX8-w_JuqDk3",
        "colab_type": "code",
        "colab": {
          "base_uri": "https://localhost:8080/",
          "height": 52
        },
        "outputId": "f9644a93-7285-412b-ca50-7aebcfa6e5b7"
      },
      "cell_type": "code",
      "source": [
        "# handle user input\n",
        "while True:\n",
        "\ttry:\n",
        "\t\tmaterialQuantity = int(input('Enter the amount of material in square meters: '))\n",
        "\texcept ValueError:\n",
        "\t\tprint('Type in a whole number! \\n')\n",
        "\t\tcontinue\n",
        "\tif materialQuantity <= 0:\n",
        "\t\tprint('Type in a number bigger than 0! \\n')\n",
        "\t\tcontinue\n",
        "\tif materialQuantity > 500000:\n",
        "\t\tprint('Type in a numer less than 500,000! \\n')\n",
        "\t\tcontinue\n",
        "\telse:\n",
        "\t\tmaterialQuantity = float(materialQuantity)\n",
        "\t\tbreak\n",
        "\n",
        "\"\"\"\n",
        "# Insert your function here!\n",
        "# Call it findTheSquares\n",
        "    \n",
        "def findTheSquares(materialQuantity):\n",
        "  #some code\n",
        "  return something\n",
        "\"\"\"\n",
        "\n",
        "def findTheSquares(materialQuantity):\n",
        "\t\n",
        "\tmaterialQuantity = float(materialQuantity)\n",
        "\tsquare = materialQuantity\n",
        "\tanswerList = []\n",
        "\twhile materialQuantity > 0:\n",
        "\t\tx = square**(.5)\n",
        "\t\tif x == int(x):\n",
        "\t\t\tanswerList.append(int(square))\n",
        "\t\t\tmaterialQuantity -= square\n",
        "\t\t\tsquare = materialQuantity\n",
        "\t\t\tcontinue\n",
        "\t\tsquare -= 1\n",
        "\treturn answerList\n",
        "\n",
        "\n",
        "# uncomment below to test your function\n",
        "print(findTheSquares(materialQuantity))"
      ],
      "execution_count": 1,
      "outputs": [
        {
          "output_type": "stream",
          "text": [
            "Enter the amount of material in square meters: 22\n",
            "[16, 4, 1, 1]\n"
          ],
          "name": "stdout"
        }
      ]
    }
  ]
}