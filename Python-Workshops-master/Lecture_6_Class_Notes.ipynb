{
  "nbformat": 4,
  "nbformat_minor": 0,
  "metadata": {
    "colab": {
      "name": "Lecture-6-Class-Notes.ipynb",
      "version": "0.3.2",
      "provenance": []
    },
    "kernelspec": {
      "name": "python3",
      "display_name": "Python 3"
    }
  },
  "cells": [
    {
      "metadata": {
        "id": "XHO8bgIK7NTr",
        "colab_type": "text"
      },
      "cell_type": "markdown",
      "source": [
        "# Lecture 6 - Class Notes\n",
        "\n",
        "-------\n",
        "Problem\n",
        "-------\n",
        "\n",
        "Who would've guessed? Doomsday devices take a LOT of power. Commander \n",
        "Lambda wants to supplement the LAMBCHOP's quantum antimatter reactor \n",
        "core with solar arrays, and she's tasked you with setting up the solar \n",
        "panels. \n",
        "\n",
        "Due to the nature of the space station's outer paneling, all of its \n",
        "solar panels must be squares. Fortunately, you have one very large and \n",
        "flat area of solar material, a pair of industrial-strength scissors, \n",
        "and enough MegaCorp Solar Tape(TM) to piece together any excess panel \n",
        "material into more squares. For example, if you had a total area of 12 \n",
        "square yards of solar material, you would be able to make one 3x3 square \n",
        "panel (with a total area of 9). That would leave 3 square yards, so you \n",
        "can turn those into three 1x1 square solar panels.\n",
        "\n",
        "Write a function answer(area) that takes as its input a single unit of \n",
        "measure representing the total area of solar panels you have (between 1 \n",
        "and 1000000 inclusive) and returns a list of the areas of the largest \n",
        "squares you could make out of those panels, starting with the largest \n",
        "squares first. So, following the example above, answer(12) would return \n",
        "[9, 1, 1, 1].\n"
      ]
    },
    {
      "metadata": {
        "id": "waUHH_EL8N1x",
        "colab_type": "code",
        "colab": {
          "base_uri": "https://localhost:8080/",
          "height": 34
        },
        "outputId": "4eb059ce-45e7-4d1e-b098-f28f0a06dc12"
      },
      "cell_type": "code",
      "source": [
        "while True:\n",
        "  #some code until false\n",
        "  print('True')"
      ],
      "execution_count": 3,
      "outputs": [
        {
          "output_type": "stream",
          "text": [
            "True\n"
          ],
          "name": "stdout"
        }
      ]
    },
    {
      "metadata": {
        "id": "f1G8vpL--YWv",
        "colab_type": "code",
        "colab": {
          "base_uri": "https://localhost:8080/",
          "height": 34
        },
        "outputId": "af971468-9754-4158-c73e-36f0b318308e"
      },
      "cell_type": "code",
      "source": [
        "while True:\n",
        "  #some code until false\n",
        "  print('True')\n",
        "  break"
      ],
      "execution_count": 4,
      "outputs": [
        {
          "output_type": "stream",
          "text": [
            "True\n"
          ],
          "name": "stdout"
        }
      ]
    },
    {
      "metadata": {
        "id": "hClrMgNE-dCe",
        "colab_type": "code",
        "colab": {
          "base_uri": "https://localhost:8080/",
          "height": 103
        },
        "outputId": "08bc9998-335c-49e9-cc82-3280fa73fcff"
      },
      "cell_type": "code",
      "source": [
        "i = 1\n",
        "\n",
        "while i < 6:\n",
        "  \n",
        "  print(i)\n",
        "  i = i + 1"
      ],
      "execution_count": 9,
      "outputs": [
        {
          "output_type": "stream",
          "text": [
            "1\n",
            "2\n",
            "3\n",
            "4\n",
            "5\n"
          ],
          "name": "stdout"
        }
      ]
    },
    {
      "metadata": {
        "id": "EBRt301R_dDV",
        "colab_type": "code",
        "colab": {
          "base_uri": "https://localhost:8080/",
          "height": 68
        },
        "outputId": "7ca0b016-ca3b-4a2c-a48d-4b9f8df7858f"
      },
      "cell_type": "code",
      "source": [
        "i = 1\n",
        "\n",
        "while i < 6:\n",
        "  print(i)\n",
        "  if i == 3:\n",
        "    break\n",
        "  i = i + 1"
      ],
      "execution_count": 7,
      "outputs": [
        {
          "output_type": "stream",
          "text": [
            "1\n",
            "2\n",
            "3\n"
          ],
          "name": "stdout"
        }
      ]
    },
    {
      "metadata": {
        "id": "o3krmysn_8FM",
        "colab_type": "code",
        "colab": {
          "base_uri": "https://localhost:8080/",
          "height": 103
        },
        "outputId": "60b65385-b3e4-4117-e060-346366902c71"
      },
      "cell_type": "code",
      "source": [
        "i = 1\n",
        "\n",
        "while i < 6:\n",
        "  \n",
        "  print(i)\n",
        "  i = i + 1\n",
        "  \n",
        "  if i == 3:\n",
        "    continue\n",
        "  "
      ],
      "execution_count": 12,
      "outputs": [
        {
          "output_type": "stream",
          "text": [
            "1\n",
            "2\n",
            "3\n",
            "4\n",
            "5\n"
          ],
          "name": "stdout"
        }
      ]
    },
    {
      "metadata": {
        "id": "51RiTt9aBOvX",
        "colab_type": "code",
        "colab": {
          "base_uri": "https://localhost:8080/",
          "height": 68
        },
        "outputId": "4459263f-b9ea-4020-e34c-07ad4a67d727"
      },
      "cell_type": "code",
      "source": [
        "# handle user input\n",
        "while True:\n",
        "\ttry:\n",
        "\t\tmaterialQuantity = int(input('Enter the amount of material in square meters: '))\n",
        "\texcept ValueError:\n",
        "\t\tprint('Type in a whole number! \\n')\n",
        "\t\tcontinue\n",
        "\tif materialQuantity <= 0:\n",
        "\t\tprint('Type in a number bigger than 0! \\n')\n",
        "\t\tcontinue\n",
        "\tif materialQuantity > 500000:\n",
        "\t\tprint('Type in a numer less than 500,000! \\n')\n",
        "\t\tcontinue\n",
        "\telse:\n",
        "\t\t# materialQuantity = float(materialQuantity)\n",
        "\t\tbreak\n",
        "    \n",
        "print(materialQuantity, type(materialQuantity))\n",
        "materialQuantity = float(materialQuantity)\n",
        "print(materialQuantity, type(materialQuantity))"
      ],
      "execution_count": 22,
      "outputs": [
        {
          "output_type": "stream",
          "text": [
            "Enter the amount of material in square meters: 12\n",
            "12 <class 'int'>\n",
            "12.0 <class 'float'>\n"
          ],
          "name": "stdout"
        }
      ]
    },
    {
      "metadata": {
        "id": "r7LRY8xFEq6v",
        "colab_type": "code",
        "colab": {
          "base_uri": "https://localhost:8080/",
          "height": 154
        },
        "outputId": "4049799f-57f0-4393-80de-ef35a88777e8"
      },
      "cell_type": "code",
      "source": [
        "userInput = 22.0\n",
        "\n",
        "print(22**(.5))\n",
        "print(21**(.5))\n",
        "print(20**(.5))\n",
        "print(19**(.5))\n",
        "print(18**(.5))\n",
        "print(17**(.5))\n",
        "print(16**(.5))\n",
        "print(15**(.5))\n"
      ],
      "execution_count": 25,
      "outputs": [
        {
          "output_type": "stream",
          "text": [
            "4.69041575982343\n",
            "4.58257569495584\n",
            "4.47213595499958\n",
            "4.358898943540674\n",
            "4.242640687119285\n",
            "4.123105625617661\n",
            "4.0\n",
            "3.872983346207417\n"
          ],
          "name": "stdout"
        }
      ]
    },
    {
      "metadata": {
        "id": "PnXZWzf5Fqp1",
        "colab_type": "code",
        "colab": {
          "base_uri": "https://localhost:8080/",
          "height": 394
        },
        "outputId": "7b24913b-9b52-49c2-9853-936aa73fdd7f"
      },
      "cell_type": "code",
      "source": [
        "userInput = 22.0\n",
        "\n",
        "while userInput > 0:\n",
        "  print(userInput**(0.5))\n",
        "  userInput = userInput - 1"
      ],
      "execution_count": 26,
      "outputs": [
        {
          "output_type": "stream",
          "text": [
            "4.69041575982343\n",
            "4.58257569495584\n",
            "4.47213595499958\n",
            "4.358898943540674\n",
            "4.242640687119285\n",
            "4.123105625617661\n",
            "4.0\n",
            "3.872983346207417\n",
            "3.7416573867739413\n",
            "3.605551275463989\n",
            "3.4641016151377544\n",
            "3.3166247903554\n",
            "3.1622776601683795\n",
            "3.0\n",
            "2.8284271247461903\n",
            "2.6457513110645907\n",
            "2.449489742783178\n",
            "2.23606797749979\n",
            "2.0\n",
            "1.7320508075688772\n",
            "1.4142135623730951\n",
            "1.0\n"
          ],
          "name": "stdout"
        }
      ]
    },
    {
      "metadata": {
        "id": "zZfOXivyGHTL",
        "colab_type": "code",
        "colab": {
          "base_uri": "https://localhost:8080/",
          "height": 771
        },
        "outputId": "ec0e0403-a4fc-4e5e-e505-47cdc5e9526c"
      },
      "cell_type": "code",
      "source": [
        "userInput = 22.0\n",
        "\n",
        "while userInput > 0:\n",
        "  print(userInput**(0.5))\n",
        "  \n",
        "  if userInput == int(userInput):\n",
        "    print('We found a square')\n",
        "  \n",
        "  userInput = userInput - 1\n",
        "  \n",
        "   "
      ],
      "execution_count": 27,
      "outputs": [
        {
          "output_type": "stream",
          "text": [
            "4.69041575982343\n",
            "We found a square\n",
            "4.58257569495584\n",
            "We found a square\n",
            "4.47213595499958\n",
            "We found a square\n",
            "4.358898943540674\n",
            "We found a square\n",
            "4.242640687119285\n",
            "We found a square\n",
            "4.123105625617661\n",
            "We found a square\n",
            "4.0\n",
            "We found a square\n",
            "3.872983346207417\n",
            "We found a square\n",
            "3.7416573867739413\n",
            "We found a square\n",
            "3.605551275463989\n",
            "We found a square\n",
            "3.4641016151377544\n",
            "We found a square\n",
            "3.3166247903554\n",
            "We found a square\n",
            "3.1622776601683795\n",
            "We found a square\n",
            "3.0\n",
            "We found a square\n",
            "2.8284271247461903\n",
            "We found a square\n",
            "2.6457513110645907\n",
            "We found a square\n",
            "2.449489742783178\n",
            "We found a square\n",
            "2.23606797749979\n",
            "We found a square\n",
            "2.0\n",
            "We found a square\n",
            "1.7320508075688772\n",
            "We found a square\n",
            "1.4142135623730951\n",
            "We found a square\n",
            "1.0\n",
            "We found a square\n"
          ],
          "name": "stdout"
        }
      ]
    },
    {
      "metadata": {
        "id": "afXcXCwWG2YS",
        "colab_type": "code",
        "colab": {
          "base_uri": "https://localhost:8080/",
          "height": 34
        },
        "outputId": "37e3c5a6-ab8e-4dc5-9148-f94074571f85"
      },
      "cell_type": "code",
      "source": [
        "area = 22\n",
        "\n",
        "def answer(area):\n",
        "\t\n",
        "\tarea = float(area)\n",
        "  \n",
        "\tsquare = area\n",
        "  \n",
        "\tanswerList = []\n",
        "  \n",
        "\twhile area > 0:\n",
        "\t\tx = square**(.5)\n",
        "    \n",
        "\t\tif x == int(x):\n",
        "\t\t\tanswerList.append(int(square))\n",
        "\t\t\tarea -= square\n",
        "\t\t\tsquare = area\n",
        "\t\t\tcontinue\n",
        "\t\tsquare -= 1\n",
        "\treturn answerList\n",
        "\n",
        "print(answer(area))"
      ],
      "execution_count": 29,
      "outputs": [
        {
          "output_type": "stream",
          "text": [
            "[16, 4, 1, 1]\n"
          ],
          "name": "stdout"
        }
      ]
    }
  ]
}