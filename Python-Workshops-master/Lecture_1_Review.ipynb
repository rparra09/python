{
  "nbformat": 4,
  "nbformat_minor": 0,
  "metadata": {
    "colab": {
      "name": "Lecture 1-Review.ipynb",
      "version": "0.3.2",
      "provenance": [],
      "collapsed_sections": []
    },
    "kernelspec": {
      "name": "python3",
      "display_name": "Python 3"
    }
  },
  "cells": [
    {
      "metadata": {
        "id": "DuhUmp05QmL1",
        "colab_type": "code",
        "colab": {}
      },
      "cell_type": "code",
      "source": [
        "'''\n",
        "This is the first course in Python3: Strings, Variables, and User Input\n",
        "\n",
        "Author: Edgard Parra\n",
        "Date: 10.1.2018\n",
        "\n",
        "'''\n",
        "\n",
        "# This is a single line comment\n",
        "\n",
        "\n",
        "print(\"Hello, my name is Edgard, and today you will be learning Python3!\")\n"
      ],
      "execution_count": 0,
      "outputs": []
    },
    {
      "metadata": {
        "id": "CJ5LpuhBWwG7",
        "colab_type": "text"
      },
      "cell_type": "markdown",
      "source": [
        "**Intro to Strings Literals**:\n",
        "String literals in python are surrounded by either single quotation marks, or double quotation marks."
      ]
    },
    {
      "metadata": {
        "id": "-T8oUU6-W4nY",
        "colab_type": "code",
        "colab": {
          "base_uri": "https://localhost:8080/",
          "height": 52
        },
        "outputId": "972fcddf-c393-4318-d2a6-04b87f413b0a"
      },
      "cell_type": "code",
      "source": [
        "print('Hello') #same output as \"Hello\"\n",
        "print(\"Hello\") #same output as 'Hello'"
      ],
      "execution_count": 10,
      "outputs": [
        {
          "output_type": "stream",
          "text": [
            "Hello\n",
            "Hello\n"
          ],
          "name": "stdout"
        }
      ]
    },
    {
      "metadata": {
        "id": "VDL_3xFBXgCR",
        "colab_type": "text"
      },
      "cell_type": "markdown",
      "source": [
        "**String Concatanation**: Combine two strings"
      ]
    },
    {
      "metadata": {
        "id": "BcF1_A-4RhfM",
        "colab_type": "code",
        "colab": {
          "base_uri": "https://localhost:8080/",
          "height": 34
        },
        "outputId": "f71d0541-e57c-48a6-f3f9-048220864db5"
      },
      "cell_type": "code",
      "source": [
        "print('Edgard ' + 'Parra')"
      ],
      "execution_count": 12,
      "outputs": [
        {
          "output_type": "stream",
          "text": [
            "Edgard Parra\n"
          ],
          "name": "stdout"
        }
      ]
    },
    {
      "metadata": {
        "id": "YI10BzxWYG5m",
        "colab_type": "text"
      },
      "cell_type": "markdown",
      "source": [
        "**A Simple variable declaration**"
      ]
    },
    {
      "metadata": {
        "id": "HrpKXqvzYLwp",
        "colab_type": "code",
        "colab": {
          "base_uri": "https://localhost:8080/",
          "height": 34
        },
        "outputId": "d50dbe42-942c-456b-b106-f5323fc10447"
      },
      "cell_type": "code",
      "source": [
        "myName = 'Edgard ' + 'Parra'\n",
        "print(myName)"
      ],
      "execution_count": 13,
      "outputs": [
        {
          "output_type": "stream",
          "text": [
            "Edgard Parra\n"
          ],
          "name": "stdout"
        }
      ]
    },
    {
      "metadata": {
        "id": "IBx3h5DbX2Zp",
        "colab_type": "text"
      },
      "cell_type": "markdown",
      "source": [
        "**There are three Variable types**: String, Interger, and Float"
      ]
    },
    {
      "metadata": {
        "id": "5VUV_EUpYDSP",
        "colab_type": "code",
        "colab": {
          "base_uri": "https://localhost:8080/",
          "height": 70
        },
        "outputId": "cb1b7d50-5dcc-44fd-a148-2fb1b1362ca4"
      },
      "cell_type": "code",
      "source": [
        "aString = 'String'\n",
        "anInterger = 3  #intergers are always a whole number\n",
        "aFloat = 3.14   #float are numbers with decimal places\n",
        "\n",
        "print(aString)\n",
        "print(anInterger)\n",
        "print(aFloat)"
      ],
      "execution_count": 14,
      "outputs": [
        {
          "output_type": "stream",
          "text": [
            "String\n",
            "3\n",
            "3.14\n"
          ],
          "name": "stdout"
        }
      ]
    },
    {
      "metadata": {
        "id": "KuMJtJopYgUd",
        "colab_type": "text"
      },
      "cell_type": "markdown",
      "source": [
        "**Verify that they are infact a string, int, float**"
      ]
    },
    {
      "metadata": {
        "id": "vpGntSASYqPT",
        "colab_type": "code",
        "colab": {
          "base_uri": "https://localhost:8080/",
          "height": 70
        },
        "outputId": "bbfddc99-4d98-4ebb-f8a4-b7597e370a2d"
      },
      "cell_type": "code",
      "source": [
        "aString = 'String'\n",
        "anInterger = 3\n",
        "aFloat = 3.14\n",
        "\n",
        "print(aString, type(aString))\n",
        "print(anInterger, type(anInterger))\n",
        "print(aFloat, type(aFloat))"
      ],
      "execution_count": 15,
      "outputs": [
        {
          "output_type": "stream",
          "text": [
            "String <class 'str'>\n",
            "3 <class 'int'>\n",
            "3.14 <class 'float'>\n"
          ],
          "name": "stdout"
        }
      ]
    },
    {
      "metadata": {
        "id": "8srj2fJya_Rk",
        "colab_type": "text"
      },
      "cell_type": "markdown",
      "source": [
        "**Turn a number to a string and vice versa:**"
      ]
    },
    {
      "metadata": {
        "id": "jSrwXwzBavhx",
        "colab_type": "code",
        "colab": {
          "base_uri": "https://localhost:8080/",
          "height": 70
        },
        "outputId": "8bf35d36-6ac6-414a-975c-369747aa078a"
      },
      "cell_type": "code",
      "source": [
        "# Let x = 2.2 , y = 2.9 , z = 2\n",
        "x = 2.2\n",
        "y = 2.9\n",
        "z = 2\n",
        "\n",
        "print(x, type(x))\n",
        "print(y, type(y))\n",
        "print(z, type(z))"
      ],
      "execution_count": 19,
      "outputs": [
        {
          "output_type": "stream",
          "text": [
            "2.2 <class 'float'>\n",
            "2.9 <class 'float'>\n",
            "2 <class 'int'>\n"
          ],
          "name": "stdout"
        }
      ]
    },
    {
      "metadata": {
        "id": "XkyMJcPLby5U",
        "colab_type": "code",
        "colab": {
          "base_uri": "https://localhost:8080/",
          "height": 87
        },
        "outputId": "9e98cbc7-3bd2-4a47-e474-b403f8cecf97"
      },
      "cell_type": "code",
      "source": [
        "# Let x = 2.2 , y = 2.9 , z = 2\n",
        "x = 2.2\n",
        "y = 2.9\n",
        "z = 2\n",
        "\n",
        "# Lets convert them all into intergers\n",
        "x = int(x)\n",
        "y = int(y)\n",
        "z = int(z)\n",
        "\n",
        "print(x, type(x))\n",
        "print(y, type(y))\n",
        "print(z, type(z))\n",
        "\n",
        "result = x + y + z\n",
        "print(result)"
      ],
      "execution_count": 25,
      "outputs": [
        {
          "output_type": "stream",
          "text": [
            "2 <class 'int'>\n",
            "2 <class 'int'>\n",
            "2 <class 'int'>\n",
            "6\n"
          ],
          "name": "stdout"
        }
      ]
    },
    {
      "metadata": {
        "id": "bih7lPV3c4st",
        "colab_type": "code",
        "colab": {
          "base_uri": "https://localhost:8080/",
          "height": 87
        },
        "outputId": "e0899680-6434-4648-fbc8-ca00c3bd03bf"
      },
      "cell_type": "code",
      "source": [
        "# Let x = 2.2 , y = 2.9 , z = 2\n",
        "x = 2.2\n",
        "y = 2.9\n",
        "z = 2\n",
        "\n",
        "# Lets convert them all into floats\n",
        "x = float(x)\n",
        "y = float(y)\n",
        "z = float(z)\n",
        "\n",
        "print(x, type(x))\n",
        "print(y, type(y))\n",
        "print(z, type(z))\n",
        "\n",
        "result = x + y + z\n",
        "print(result)"
      ],
      "execution_count": 26,
      "outputs": [
        {
          "output_type": "stream",
          "text": [
            "2.2 <class 'float'>\n",
            "2.9 <class 'float'>\n",
            "2.0 <class 'float'>\n",
            "7.1\n"
          ],
          "name": "stdout"
        }
      ]
    },
    {
      "metadata": {
        "id": "GAlmgZPrdGlO",
        "colab_type": "code",
        "colab": {
          "base_uri": "https://localhost:8080/",
          "height": 87
        },
        "outputId": "67bc2f65-4c22-4cf7-b9be-1289f0a219eb"
      },
      "cell_type": "code",
      "source": [
        "# Let x = 2.2 , y = 2.9 , z = 2\n",
        "x = 2.2\n",
        "y = 2.9\n",
        "z = 2\n",
        "\n",
        "# Lets convert them all into strings\n",
        "x = str(x)\n",
        "y = str(y)\n",
        "z = str(z)\n",
        "\n",
        "print(x, type(x))\n",
        "print(y, type(y))\n",
        "print(z, type(z))\n",
        "\n",
        "result = x + y + z\n",
        "print(result)"
      ],
      "execution_count": 27,
      "outputs": [
        {
          "output_type": "stream",
          "text": [
            "2.2 <class 'str'>\n",
            "2.9 <class 'str'>\n",
            "2 <class 'str'>\n",
            "2.22.92\n"
          ],
          "name": "stdout"
        }
      ]
    },
    {
      "metadata": {
        "id": "pxXpwK90dmIf",
        "colab_type": "text"
      },
      "cell_type": "markdown",
      "source": [
        "**User input is always turned into a string:**"
      ]
    },
    {
      "metadata": {
        "id": "f5UN0shJdu5p",
        "colab_type": "code",
        "colab": {
          "base_uri": "https://localhost:8080/",
          "height": 52
        },
        "outputId": "61d343c8-509b-419b-8341-eb57da61d8fb"
      },
      "cell_type": "code",
      "source": [
        "userInput = input('Ask something: ')  #whatever the user inputs gets stored into: userInput\n",
        "print(userInput)"
      ],
      "execution_count": 29,
      "outputs": [
        {
          "output_type": "stream",
          "text": [
            "Ask something: Hi\n",
            "Hi\n"
          ],
          "name": "stdout"
        }
      ]
    },
    {
      "metadata": {
        "id": "-PoPdGwceeN1",
        "colab_type": "code",
        "colab": {
          "base_uri": "https://localhost:8080/",
          "height": 122
        },
        "outputId": "1baaff70-54f9-43e9-a8e9-a27a8034135b"
      },
      "cell_type": "code",
      "source": [
        "yourName = input('What\\'s your name?: ')\n",
        "yourAge = input('How old are you: ')\n",
        "afloat = input('Enter the value of PI: ')\n",
        "\n",
        "print(yourName, type(yourName))\n",
        "print(yourAge, type(yourAge))\n",
        "print(afloat, type(afloat))"
      ],
      "execution_count": 32,
      "outputs": [
        {
          "output_type": "stream",
          "text": [
            "What's your name?: Edgard\n",
            "How old are you: 30\n",
            "Enter the value of PI: 3.14\n",
            "Edgard <class 'str'>\n",
            "30 <class 'str'>\n",
            "3.14 <class 'str'>\n"
          ],
          "name": "stdout"
        }
      ]
    },
    {
      "metadata": {
        "id": "0wFZvB31fSVv",
        "colab_type": "text"
      },
      "cell_type": "markdown",
      "source": [
        "**Notice that eveything the user inputs, gets turned into a string** If you expect the user to input a numerical value, then you need to add error handling. I recommend you don't let users input anything, not until you get really good at programming. Most of the casses, you don't need a user to input anything."
      ]
    }
  ]
}