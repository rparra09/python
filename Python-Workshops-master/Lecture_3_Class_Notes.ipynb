{
  "nbformat": 4,
  "nbformat_minor": 0,
  "metadata": {
    "colab": {
      "name": "Lecture_3_Class_Notes.ipynb",
      "version": "0.3.2",
      "provenance": [],
      "collapsed_sections": [],
      "toc_visible": true
    },
    "kernelspec": {
      "name": "python3",
      "display_name": "Python 3"
    }
  },
  "cells": [
    {
      "metadata": {
        "id": "y2Ovhi7GmGrh",
        "colab_type": "text"
      },
      "cell_type": "markdown",
      "source": [
        "# Python Workshop - Lecture 3\n",
        "Today we will quickly review and then we will do math inside of Python"
      ]
    },
    {
      "metadata": {
        "id": "aloDgfISVLvF",
        "colab_type": "text"
      },
      "cell_type": "markdown",
      "source": [
        "## Python3 - Review"
      ]
    },
    {
      "metadata": {
        "id": "VRdNw0KRVQXo",
        "colab_type": "text"
      },
      "cell_type": "markdown",
      "source": [
        "### Strings, Intergers, and Floats\n",
        "Please refer to Lecture 1 for more information"
      ]
    },
    {
      "metadata": {
        "id": "6FEcYAfQmJAG",
        "colab_type": "code",
        "colab": {
          "base_uri": "https://localhost:8080/",
          "height": 84
        },
        "outputId": "ea249ac0-b9dd-4d59-d317-97e59122cf4c"
      },
      "cell_type": "code",
      "source": [
        "x = '3'\n",
        "print('x =', x, type(x))\n",
        "\n",
        "y = 3\n",
        "print('y =', y, type(y))\n",
        "\n",
        "y = float(y)\n",
        "print('float(y) =', y, type(y))\n",
        "\n",
        "z = 4.654\n",
        "print('z =', z, type(z))"
      ],
      "execution_count": 2,
      "outputs": [
        {
          "output_type": "stream",
          "text": [
            "x = 3 <class 'str'>\n",
            "y = 3 <class 'int'>\n",
            "float(y) = 3.0 <class 'float'>\n",
            "z = 4.654 <class 'float'>\n"
          ],
          "name": "stdout"
        }
      ]
    },
    {
      "metadata": {
        "id": "5Tk4NvK0WF3Z",
        "colab_type": "text"
      },
      "cell_type": "markdown",
      "source": [
        "## Doing Math in Python\n",
        "Please refer to: https://docs.python.org/3/library/stdtypes.html"
      ]
    },
    {
      "metadata": {
        "id": "GZm8QGLDWn78",
        "colab_type": "text"
      },
      "cell_type": "markdown",
      "source": [
        "### Basic Math"
      ]
    },
    {
      "metadata": {
        "id": "6x9lKhXNmzw5",
        "colab_type": "code",
        "colab": {
          "base_uri": "https://localhost:8080/",
          "height": 35
        },
        "outputId": "6cb2d6d5-6132-43af-edfb-eec4076e6202"
      },
      "cell_type": "code",
      "source": [
        "x = 5\n",
        "x = x**(1/2) #exponent\n",
        "print(x)"
      ],
      "execution_count": 9,
      "outputs": [
        {
          "output_type": "stream",
          "text": [
            "2.23606797749979\n"
          ],
          "name": "stdout"
        }
      ]
    },
    {
      "metadata": {
        "id": "LJVmEa3yWzi0",
        "colab_type": "text"
      },
      "cell_type": "markdown",
      "source": [
        "Lets create a multidimensional list and pretend this is our data from an excel sheet.\n",
        "\n",
        "call it **myData**"
      ]
    },
    {
      "metadata": {
        "id": "y0mU6ExvnsdK",
        "colab_type": "code",
        "colab": {
          "base_uri": "https://localhost:8080/",
          "height": 35
        },
        "outputId": "ac902172-1d1a-471d-aed0-36c2619d0b43"
      },
      "cell_type": "code",
      "source": [
        "myData = [[1,2,1],\n",
        "          [1,4,1],\n",
        "          [1,2,1]]\n",
        "print(myData,type(myData))"
      ],
      "execution_count": 24,
      "outputs": [
        {
          "output_type": "stream",
          "text": [
            "[[1, 2, 1], [1, 4, 1], [1, 2, 1]] <class 'list'>\n"
          ],
          "name": "stdout"
        }
      ]
    },
    {
      "metadata": {
        "id": "hfYu-SonXLrE",
        "colab_type": "text"
      },
      "cell_type": "markdown",
      "source": [
        "### Quadratic Equation\n",
        "Lets apply the quadratic eqation to our data.\n",
        "\n",
        "To review the quadratic equation go to: https://en.wikipedia.org/wiki/Quadratic_equation\n",
        "\n",
        "We are writing code that takes values from the list (myData), and we point to the data by its list index. "
      ]
    },
    {
      "metadata": {
        "id": "tgo1vTEioFcc",
        "colab_type": "code",
        "colab": {
          "base_uri": "https://localhost:8080/",
          "height": 35
        },
        "outputId": "d7614890-c63c-4a6f-f917-ebe5a28aebd5"
      },
      "cell_type": "code",
      "source": [
        "myData = [[1,2,1],\n",
        "          [1,4,1],\n",
        "          [1,2,1]]\n",
        "\n",
        "a=myData[0][0]\n",
        "b=myData[0][1]\n",
        "c=myData[0][2]\n",
        "\n",
        "#print(a)\n",
        "#print(b)\n",
        "#print(c)\n",
        "\n",
        "a = float(a)\n",
        "b = float(b)\n",
        "c = float(c)\n",
        "\n",
        "numerator1 = b*(-1) + (b**2 - 4*a*c)**(1/2)\n",
        "numerator2 = b*(-1) - (b**2 - 4*a*c)**(1/2)\n",
        "denumerator = 2*a\n",
        "\n",
        "result1 = numerator1 / denumerator\n",
        "result2 = numerator2 / denumerator\n",
        "\n",
        "print(result1,',',result2)"
      ],
      "execution_count": 37,
      "outputs": [
        {
          "output_type": "stream",
          "text": [
            "-1.0 , -1.0\n"
          ],
          "name": "stdout"
        }
      ]
    },
    {
      "metadata": {
        "id": "XmLCp0GcX-r6",
        "colab_type": "text"
      },
      "cell_type": "markdown",
      "source": [
        "If you need to apply higher level math, then refer to **math** and **numpy** packages.\n",
        "\n",
        "* https://docs.python.org/3/library/math.html\n",
        "* https://docs.scipy.org/doc/numpy-1.15.1/reference/"
      ]
    },
    {
      "metadata": {
        "id": "_RMrTsb2q6ol",
        "colab_type": "code",
        "colab": {
          "base_uri": "https://localhost:8080/",
          "height": 35
        },
        "outputId": "b624bc3e-560e-491f-8052-dfe469bcb666"
      },
      "cell_type": "code",
      "source": [
        "import math\n",
        "\n",
        "x = math.sin(90)\n",
        "print(x)"
      ],
      "execution_count": 30,
      "outputs": [
        {
          "output_type": "stream",
          "text": [
            "0.8939966636005579\n"
          ],
          "name": "stdout"
        }
      ]
    },
    {
      "metadata": {
        "id": "KbWsqpphYjdb",
        "colab_type": "text"
      },
      "cell_type": "markdown",
      "source": [
        "## This is not a math class\n",
        "There are hundreds of formulas in math, we will not cover them all. This is meant as a tutorial on how to turn a math formula into a python3 function. \n",
        "\n",
        "It is up to you guys to figure out what kind of math you need to apply to your data, create a function, and print the result.\n"
      ]
    },
    {
      "metadata": {
        "id": "-YX5Z_yPaog9",
        "colab_type": "text"
      },
      "cell_type": "markdown",
      "source": [
        "### Python 3 Functions - Basic Intro\n",
        "I will cover functions with more details in future classes. For now know that the function synthax looks like this:\n",
        "\n",
        "\n",
        "\n",
        "```\n",
        "def functionName():\n",
        "  # some code\n",
        "  return \n",
        "```\n",
        "\n"
      ]
    },
    {
      "metadata": {
        "id": "7ysRMnbgomIZ",
        "colab_type": "code",
        "colab": {
          "base_uri": "https://localhost:8080/",
          "height": 50
        },
        "outputId": "af734b09-1b5f-4f75-bdb7-022f19ac4785"
      },
      "cell_type": "code",
      "source": [
        "'''Lets copy paste our quadratic equation python code inside a function'''\n",
        "\n",
        "def quadEQ(a,b,c):\n",
        "  # a,b,c are our input. We expect numbers, but lets turn them into floats to avoid errors.\n",
        "  a = float(a)\n",
        "  b = float(b)\n",
        "  c = float(c)\n",
        "  \n",
        "  numerator1 = b*(-1) + (b**2 - 4*a*c)**(1/2)\n",
        "  numerator2 = b*(-1) - (b**2 - 4*a*c)**(1/2)\n",
        "  denumerator = 2*a\n",
        "\n",
        "  result1 = numerator1 / denumerator\n",
        "  result2 = numerator2 / denumerator\n",
        "  \n",
        "  #print(result1,',',result2)\n",
        "  return result1\n",
        "  \n",
        "# we can re-use our function with diferent values!\n",
        "print(quadEQ(1,-2,1))\n",
        "print(quadEQ(1,-4,2))\n",
        "  "
      ],
      "execution_count": 3,
      "outputs": [
        {
          "output_type": "stream",
          "text": [
            "1.0\n",
            "3.414213562373095\n"
          ],
          "name": "stdout"
        }
      ]
    },
    {
      "metadata": {
        "id": "PR6fSn_qaj0U",
        "colab_type": "text"
      },
      "cell_type": "markdown",
      "source": [
        "### Python3 For loops - Basic Intro \n",
        "A for loop is used to repeat an operation.\n",
        "\n",
        "Its synthax looks like:\n",
        "\n",
        "```\n",
        "for x in myArray:\n",
        "  # some code\n",
        "```\n",
        "\n",
        "Now that we have a function lets apply our quadratic equation function to our entire data (which can be in the millions of values)."
      ]
    },
    {
      "metadata": {
        "id": "nvNCuwSdtzsc",
        "colab_type": "code",
        "colab": {
          "base_uri": "https://localhost:8080/",
          "height": 67
        },
        "outputId": "e48f12d0-de3d-469e-e33c-3a538dcda95a"
      },
      "cell_type": "code",
      "source": [
        "myData = [[1,2,1],\n",
        "          [1,4,1],\n",
        "          [1,2,1]]\n",
        "\n",
        "for row in myData:\n",
        "  #print(row)\n",
        "  \n",
        "  # we grab the values from our list by their list-index\n",
        "  a = row[0]\n",
        "  b = row[1]\n",
        "  c = row[2]\n",
        "  \n",
        "  result = quadEQ(a,b,c)\n",
        "  print(result)\n",
        "  "
      ],
      "execution_count": 4,
      "outputs": [
        {
          "output_type": "stream",
          "text": [
            "-1.0\n",
            "-0.2679491924311228\n",
            "-1.0\n"
          ],
          "name": "stdout"
        }
      ]
    },
    {
      "metadata": {
        "id": "pjhbiFkfb34f",
        "colab_type": "text"
      },
      "cell_type": "markdown",
      "source": [
        "### Storing our results\n",
        "\n",
        "Lets create an empy list (call it myResult), and lets append our results into the list. "
      ]
    },
    {
      "metadata": {
        "id": "Tshp6488vQJF",
        "colab_type": "code",
        "colab": {
          "base_uri": "https://localhost:8080/",
          "height": 34
        },
        "outputId": "c260a150-fd89-4d06-fa91-8b4e4b724761"
      },
      "cell_type": "code",
      "source": [
        "myData = [[1,2,1],\n",
        "          [1,4,1],\n",
        "          [1,2,1]]\n",
        "\n",
        "myResult = [] \n",
        "\n",
        "for row in myData:\n",
        "  \n",
        "  a = row[0]\n",
        "  b = row[1]\n",
        "  c = row[2]\n",
        "  \n",
        "  myMath = quadEQ(a,b,c)\n",
        "  #print(myMath, type(myMath))\n",
        "  myResult.append(myMath)\n",
        "\n",
        "print(myResult,type(myResult))"
      ],
      "execution_count": 5,
      "outputs": [
        {
          "output_type": "stream",
          "text": [
            "[-1.0, -0.2679491924311228, -1.0] <class 'list'>\n"
          ],
          "name": "stdout"
        }
      ]
    },
    {
      "metadata": {
        "id": "pNzD-iGxcFa9",
        "colab_type": "text"
      },
      "cell_type": "markdown",
      "source": [
        "## Don't reinvent the wheel!\n",
        "We have created a math function inside of python, but we have failed to code some exceptions. \n",
        "* what if the discriminant is negative\n",
        "* how do we handle complex numbers\n",
        "* does your data need complex numbers?\n",
        "* What if you try to divide by zero?\n",
        "\n",
        "My recomendation is to google search for math functions. \n",
        "\n",
        "A quick search for  (python quadratic equation numpy)\n",
        "\n",
        "Takes us to: https://docs.scipy.org/doc/numpy/reference/generated/numpy.roots.html\n",
        "\n",
        "Following their API we create the following script:"
      ]
    },
    {
      "metadata": {
        "id": "j8h1fJW1w02h",
        "colab_type": "code",
        "colab": {
          "base_uri": "https://localhost:8080/",
          "height": 101
        },
        "outputId": "ed88c9d2-b567-4c3c-b191-442f18682c9a"
      },
      "cell_type": "code",
      "source": [
        "import numpy as np\n",
        "\n",
        "myData = [[3.2,2,1],\n",
        "          [1,2,1],\n",
        "          [1,4,1],\n",
        "          [1,2,1]]\n",
        "\n",
        "for row in myData:\n",
        "  #print('coeff =',row)\n",
        "  \n",
        "  result = np.roots(row)\n",
        "  \n",
        "  print(result)\n",
        "\n",
        "print(type(result))\n"
      ],
      "execution_count": 8,
      "outputs": [
        {
          "output_type": "stream",
          "text": [
            "[-0.3125+0.46351241j -0.3125-0.46351241j]\n",
            "[-1. -1.]\n",
            "[-3.73205081 -0.26794919]\n",
            "[-1. -1.]\n",
            "<class 'numpy.ndarray'>\n"
          ],
          "name": "stdout"
        }
      ]
    }
  ]
}