{
  "nbformat": 4,
  "nbformat_minor": 0,
  "metadata": {
    "colab": {
      "name": "Lecture-2-Review.ipynb",
      "version": "0.3.2",
      "provenance": []
    },
    "kernelspec": {
      "name": "python3",
      "display_name": "Python 3"
    }
  },
  "cells": [
    {
      "metadata": {
        "id": "fJJSyCm7xD59",
        "colab_type": "text"
      },
      "cell_type": "markdown",
      "source": [
        "# Python3 - Workshop #2\n",
        "Introduction to Lists, Tuples, Sets, Dictionaries, and Arrays"
      ]
    },
    {
      "metadata": {
        "id": "ilsoowpOxGCi",
        "colab_type": "text"
      },
      "cell_type": "markdown",
      "source": [
        "## Review from last workshop\n",
        "Unlike other programming languages, Python has no command for declaring a variable.\n",
        "\n",
        "A variable is created the moment you first assign a value to it."
      ]
    },
    {
      "metadata": {
        "id": "wFCjzPKi2MXK",
        "colab_type": "code",
        "colab": {
          "base_uri": "https://localhost:8080/",
          "height": 68
        },
        "outputId": "0038febb-e902-4603-f9a5-6d4abeee04b5"
      },
      "cell_type": "code",
      "source": [
        "x = 3\n",
        "y = 3.14\n",
        "z = '3'\n",
        "\n",
        "print('x =', x, type(x))\n",
        "print('y =', y, type(y))\n",
        "print('z =', z, type(z))"
      ],
      "execution_count": 7,
      "outputs": [
        {
          "output_type": "stream",
          "text": [
            "x = 3 <class 'int'>\n",
            "y = 3.14 <class 'float'>\n",
            "z = 3 <class 'str'>\n"
          ],
          "name": "stdout"
        }
      ]
    },
    {
      "metadata": {
        "id": "9KWnwLuoxIka",
        "colab_type": "text"
      },
      "cell_type": "markdown",
      "source": [
        "### Specify a Variable Type\n",
        "There may be times when you want to specify a type on to a variable. This can be done with casting. Python is an object-orientated language, and as such it uses classes to define data types, including its primitive types.\n",
        "\n",
        "Casting in python is therefore done using constructor functions:"
      ]
    },
    {
      "metadata": {
        "id": "KBnE6sboxMTi",
        "colab_type": "text"
      },
      "cell_type": "markdown",
      "source": [
        "#### Intergers - int()"
      ]
    },
    {
      "metadata": {
        "id": "bz_q_I1e3WwP",
        "colab_type": "code",
        "colab": {
          "base_uri": "https://localhost:8080/",
          "height": 68
        },
        "outputId": "3ad0add7-29c6-4e45-b117-9623462e975b"
      },
      "cell_type": "code",
      "source": [
        "x = 3\n",
        "y = 3.14\n",
        "z = '3'\n",
        "\n",
        "x = int(x)\n",
        "y = int(y)\n",
        "z = int(z)\n",
        "\n",
        "print('x =', x, type(x))\n",
        "print('y =', y, type(y))\n",
        "print('z =', z, type(z))"
      ],
      "execution_count": 66,
      "outputs": [
        {
          "output_type": "stream",
          "text": [
            "x = 3 <class 'int'>\n",
            "y = 3 <class 'int'>\n",
            "z = 3 <class 'int'>\n"
          ],
          "name": "stdout"
        }
      ]
    },
    {
      "metadata": {
        "id": "5_QcxOZKxRTy",
        "colab_type": "text"
      },
      "cell_type": "markdown",
      "source": [
        "#### Float - float()"
      ]
    },
    {
      "metadata": {
        "id": "R2Vo9ubg3zK3",
        "colab_type": "code",
        "colab": {
          "base_uri": "https://localhost:8080/",
          "height": 68
        },
        "outputId": "d871ffaa-95de-4866-a4e2-05af720e9b99"
      },
      "cell_type": "code",
      "source": [
        "x = 3\n",
        "y = 3.14\n",
        "z = '3'\n",
        "\n",
        "x = float(x)\n",
        "y = float(y)\n",
        "z = float(z)\n",
        "\n",
        "print('x =', x, type(x))\n",
        "print('y =', y, type(y))\n",
        "print('z =', z, type(z))"
      ],
      "execution_count": 11,
      "outputs": [
        {
          "output_type": "stream",
          "text": [
            "x = 3.0 <class 'float'>\n",
            "y = 3.14 <class 'float'>\n",
            "z = 3.0 <class 'float'>\n"
          ],
          "name": "stdout"
        }
      ]
    },
    {
      "metadata": {
        "id": "t6jz0eXdxT2h",
        "colab_type": "text"
      },
      "cell_type": "markdown",
      "source": [
        "#### Strings - str()"
      ]
    },
    {
      "metadata": {
        "id": "U78KWJAJ4CV-",
        "colab_type": "code",
        "colab": {
          "base_uri": "https://localhost:8080/",
          "height": 68
        },
        "outputId": "e1243dd7-bf18-434b-a3e5-83568544e2ef"
      },
      "cell_type": "code",
      "source": [
        "x = 3\n",
        "y = 3.14\n",
        "z = '3'\n",
        "\n",
        "x = str(x)\n",
        "y = str(y)\n",
        "z = str(z)\n",
        "\n",
        "print('x =', x, type(x))\n",
        "print('y =', y, type(y))\n",
        "print('z =', z, type(z))"
      ],
      "execution_count": 12,
      "outputs": [
        {
          "output_type": "stream",
          "text": [
            "x = 3 <class 'str'>\n",
            "y = 3.14 <class 'str'>\n",
            "z = 3 <class 'str'>\n"
          ],
          "name": "stdout"
        }
      ]
    },
    {
      "metadata": {
        "id": "dqjWVaR0xV9J",
        "colab_type": "text"
      },
      "cell_type": "markdown",
      "source": [
        "### User input\n",
        "For Data Science, I personally recommend you don't let other users input values. If you must, then make sure you write error handling of all the exceptions you can think of. \n",
        "\n",
        "The following is a simple example of how to handle user input. First of all, remember from class that all user input is treated as a string, so if you expect a number then convert it to a float (not an interger)."
      ]
    },
    {
      "metadata": {
        "id": "v-BbB3m74h5X",
        "colab_type": "code",
        "colab": {
          "base_uri": "https://localhost:8080/",
          "height": 34
        },
        "outputId": "b984db99-a976-4151-d301-05e55090b80d"
      },
      "cell_type": "code",
      "source": [
        "myName = input('what is your name:' )\n"
      ],
      "execution_count": 14,
      "outputs": [
        {
          "output_type": "stream",
          "text": [
            "what is your name:34\n"
          ],
          "name": "stdout"
        }
      ]
    },
    {
      "metadata": {
        "id": "mk5C_JxqxYrZ",
        "colab_type": "text"
      },
      "cell_type": "markdown",
      "source": [
        "## Python Collections (Arrays)\n",
        "There are four collection data types in the Python programming language:\n",
        "\n",
        "* **List** is a collection which is ordered and changeable. Allows duplicate members.\n",
        "* **Tuple** is a collection which is ordered and unchangeable. Allows duplicate members.\n",
        "* **Set** is a collection which is unordered and unindexed. No duplicate members.\n",
        "* **Dictionary** is a collection which is unordered, changeable and indexed. No duplicate members.\n",
        "\n"
      ]
    },
    {
      "metadata": {
        "id": "zDMvmHwG5j6E",
        "colab_type": "code",
        "colab": {
          "base_uri": "https://localhost:8080/",
          "height": 34
        },
        "outputId": "242fa2c1-e325-474f-e20e-483a54435af3"
      },
      "cell_type": "code",
      "source": [
        "aList = ['apple','banana','milk']\n",
        "print(aList,type(aList))"
      ],
      "execution_count": 22,
      "outputs": [
        {
          "output_type": "stream",
          "text": [
            "['apple', 'banana', 'milk'] <class 'list'>\n"
          ],
          "name": "stdout"
        }
      ]
    },
    {
      "metadata": {
        "id": "0GBPvGWNxeHz",
        "colab_type": "text"
      },
      "cell_type": "markdown",
      "source": [
        "### Lists\n",
        "A list is a collection which is ordered and changeable. In Python lists are written with square brackets."
      ]
    },
    {
      "metadata": {
        "id": "pG1Vypiyxh2B",
        "colab_type": "text"
      },
      "cell_type": "markdown",
      "source": [
        "### Tuple\n",
        "A tuple is a collection which is ordered and unchangeable. In Python tuples are written with round brackets."
      ]
    },
    {
      "metadata": {
        "id": "vD-gbpFG50Ij",
        "colab_type": "code",
        "colab": {
          "base_uri": "https://localhost:8080/",
          "height": 34
        },
        "outputId": "84cef670-e624-449c-d82c-86eb7f10a266"
      },
      "cell_type": "code",
      "source": [
        "aTuple = ('apple','banana', 'milk')\n",
        "print(aTuple, type(aTuple))"
      ],
      "execution_count": 21,
      "outputs": [
        {
          "output_type": "stream",
          "text": [
            "('apple', 'banana', 'milk') <class 'tuple'>\n"
          ],
          "name": "stdout"
        }
      ]
    },
    {
      "metadata": {
        "id": "TyXhXX6hxkDZ",
        "colab_type": "text"
      },
      "cell_type": "markdown",
      "source": [
        "### Set\n",
        "A set is a collection which is unordered and unindexed. In Python sets are written with curly brackets."
      ]
    },
    {
      "metadata": {
        "id": "gtC8kiBD6Bzj",
        "colab_type": "code",
        "colab": {
          "base_uri": "https://localhost:8080/",
          "height": 34
        },
        "outputId": "dbb6aa04-1479-427f-9774-60ce3feec7d8"
      },
      "cell_type": "code",
      "source": [
        "aSet = {'apple', 'banana', 'coconut'}\n",
        "print(aSet, type(aSet))"
      ],
      "execution_count": 20,
      "outputs": [
        {
          "output_type": "stream",
          "text": [
            "{'apple', 'banana', 'coconut'} <class 'set'>\n"
          ],
          "name": "stdout"
        }
      ]
    },
    {
      "metadata": {
        "id": "EYxWao-oxl_o",
        "colab_type": "text"
      },
      "cell_type": "markdown",
      "source": [
        "### Dictionary\n",
        "A dictionary is a collection which is unordered, changeable and indexed. In Python dictionaries are written with curly brackets, and they have keys and values."
      ]
    },
    {
      "metadata": {
        "id": "PGt868zJ6bHL",
        "colab_type": "code",
        "colab": {
          "base_uri": "https://localhost:8080/",
          "height": 34
        },
        "outputId": "23b3144c-83ae-42f9-e5ff-60420ca0e7c9"
      },
      "cell_type": "code",
      "source": [
        "aDictionary = {\n",
        "    'Name':'Edgard',\n",
        "    'Schools':'Mesa',\n",
        "    'SSS': 555555555\n",
        "}\n",
        "print(aDictionary)"
      ],
      "execution_count": 24,
      "outputs": [
        {
          "output_type": "stream",
          "text": [
            "{'Name': 'Edgard', 'Schools': 'Mesa', 'SSS': 555555555}\n"
          ],
          "name": "stdout"
        }
      ]
    },
    {
      "metadata": {
        "id": "1ajnJnDsxoxZ",
        "colab_type": "text"
      },
      "cell_type": "markdown",
      "source": [
        "## Python3 - Lists\n",
        "Lets manipulate lists"
      ]
    },
    {
      "metadata": {
        "id": "yroOPzpoxuVg",
        "colab_type": "text"
      },
      "cell_type": "markdown",
      "source": [
        "### List Built in functions\n",
        "\n",
        "* **append()**\tAdds an element at the end of the list\n",
        "* **clear()**\tRemoves all the elements from the list\n",
        "* **copy()**\tReturns a copy of the list\n",
        "* **count()**\tReturns the number of elements with the specified value\n",
        "* **extend()**\tAdd the elements of a list (or any iterable), to the end of the current list\n",
        "* **pop()**\tRemoves the element at the specified position\n",
        "* **remove()**\tRemoves the first item with the specified value\n",
        "* **reverse()**\tReverses the order of the list\n",
        "* **sort()**\tSorts the list\n",
        "\n",
        "### Data Structures\n",
        "More at: https://docs.python.org/3/tutorial/datastructures.html"
      ]
    },
    {
      "metadata": {
        "id": "R9H1yljH7PK5",
        "colab_type": "code",
        "colab": {
          "base_uri": "https://localhost:8080/",
          "height": 51
        },
        "outputId": "c03bc0bc-a8ce-4875-f0a8-7bd49a5debeb"
      },
      "cell_type": "code",
      "source": [
        "aList = [1,2,3,4,5,6]\n",
        "\n",
        "\n",
        "aList.append(8)\n",
        "\n",
        "print(aList)\n",
        "aList.pop()\n",
        "print(aList)"
      ],
      "execution_count": 28,
      "outputs": [
        {
          "output_type": "stream",
          "text": [
            "[1, 2, 3, 4, 5, 6, 8]\n",
            "[1, 2, 3, 4, 5, 6]\n"
          ],
          "name": "stdout"
        }
      ]
    },
    {
      "metadata": {
        "id": "fPNEaueoBxav",
        "colab_type": "code",
        "colab": {
          "base_uri": "https://localhost:8080/",
          "height": 51
        },
        "outputId": "59fe8df9-9d4f-4747-daac-418e2d0c46d4"
      },
      "cell_type": "code",
      "source": [
        "aList = [623423,35267,47213,443,55,6]\n",
        "\n",
        "aList.pop(3)\n",
        "print(aList)\n",
        "\n",
        "print(len(aList))"
      ],
      "execution_count": 73,
      "outputs": [
        {
          "output_type": "stream",
          "text": [
            "[623423, 35267, 47213, 55, 6]\n",
            "5\n"
          ],
          "name": "stdout"
        }
      ]
    },
    {
      "metadata": {
        "id": "Dbr1AHbM74C9",
        "colab_type": "text"
      },
      "cell_type": "markdown",
      "source": [
        "### List Index"
      ]
    },
    {
      "metadata": {
        "id": "_Yt0UCrx77x1",
        "colab_type": "code",
        "colab": {
          "base_uri": "https://localhost:8080/",
          "height": 103
        },
        "outputId": "3d7be13d-c7d7-4b7f-c900-74cf75aa8789"
      },
      "cell_type": "code",
      "source": [
        "aList = [3,3,3,5,6]\n",
        "\n",
        "print('index 0 =', aList[0] )\n",
        "print('index 1 =', aList[1] )\n",
        "print('index 2 =', aList[2] )\n",
        "print('index 3 =', aList[3] )\n",
        "print('index 4 =', aList[4] )\n"
      ],
      "execution_count": 47,
      "outputs": [
        {
          "output_type": "stream",
          "text": [
            "index 0 = 3\n",
            "index 1 = 3\n",
            "index 2 = 3\n",
            "index 3 = 5\n",
            "index 4 = 6\n"
          ],
          "name": "stdout"
        }
      ]
    },
    {
      "metadata": {
        "id": "t_N84-WgxvXJ",
        "colab_type": "text"
      },
      "cell_type": "markdown",
      "source": [
        "### Multidimensional Arrays in Python3"
      ]
    },
    {
      "metadata": {
        "id": "VGrEUMSpyZmw",
        "colab_type": "code",
        "colab": {
          "base_uri": "https://localhost:8080/",
          "height": 34
        },
        "outputId": "a032ab81-a36d-4aab-abdb-312eb6ad8eed"
      },
      "cell_type": "code",
      "source": [
        "A = [[1,2,3],\n",
        "     [4,5,6],\n",
        "     [7,8,9]]\n",
        "\n",
        "print(A, type(A))"
      ],
      "execution_count": 49,
      "outputs": [
        {
          "output_type": "stream",
          "text": [
            "[[1, 2, 3], [4, 5, 6], [7, 8, 9]] <class 'list'>\n"
          ],
          "name": "stdout"
        }
      ]
    },
    {
      "metadata": {
        "id": "awhoX2Uz-88N",
        "colab_type": "code",
        "colab": {
          "base_uri": "https://localhost:8080/",
          "height": 68
        },
        "outputId": "07529516-e052-45e6-fd04-1ea3f26734cc"
      },
      "cell_type": "code",
      "source": [
        "A = [[1,2,3],\n",
        "     [4,5,6],\n",
        "     [7,8,9]]\n",
        "\n",
        "result1 = A[0][0] + 1\n",
        "result2 = A[0][1] * 2\n",
        "result3 = A[0][2] / 5\n",
        "\n",
        "print(result1)\n",
        "print(result2)\n",
        "print(result3)\n",
        "\n"
      ],
      "execution_count": 64,
      "outputs": [
        {
          "output_type": "stream",
          "text": [
            "2\n",
            "4\n",
            "0.6\n"
          ],
          "name": "stdout"
        }
      ]
    }
  ]
}