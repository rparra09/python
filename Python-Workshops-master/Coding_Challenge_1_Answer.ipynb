{
  "nbformat": 4,
  "nbformat_minor": 0,
  "metadata": {
    "colab": {
      "name": "Coding-Challenge-1-Answer.ipynb",
      "version": "0.3.2",
      "provenance": [],
      "collapsed_sections": [],
      "toc_visible": true
    },
    "kernelspec": {
      "name": "python3",
      "display_name": "Python 3"
    }
  },
  "cells": [
    {
      "metadata": {
        "id": "3fwDUHL9VemF",
        "colab_type": "text"
      },
      "cell_type": "markdown",
      "source": [
        "# Coding Challenge 1 \n",
        "The challenge is to turn the quadratic equation into a python 3 function. \n",
        "\n",
        "---\n",
        "\n",
        "The general quadratic equation is:\n",
        "\n",
        "![alt text](https://wikimedia.org/api/rest_v1/media/math/render/svg/23e70cfa003f402d108ec04d97983fb62f69536e)\n",
        "\n",
        "Where **a**, **b**, and **c** are constants. Solving for x gives us the quadratic equation:\n",
        "\n",
        "![alt text](https://wikimedia.org/api/rest_v1/media/math/render/svg/2a9804ca8ce019507e3199ca8fced800fb5b7d7c)\n",
        "\n",
        "There are two considerations about this formula:\n",
        "\n",
        "\n",
        "1.   **a** cannot equal zero\n",
        "2.   The descriminant cannot equal a negative number (or we get complex numbers)\n",
        "\n",
        "![alt text](https://image.ibb.co/crWPB9/dis_2.png)\n",
        "\n",
        "Since our solutions lives in real space, don't let our python function divide by zero or output complex numbers!"
      ]
    },
    {
      "metadata": {
        "id": "SJ_8HBFrWPc2",
        "colab_type": "text"
      },
      "cell_type": "markdown",
      "source": [
        "From the previous class we wrote the following function:"
      ]
    },
    {
      "metadata": {
        "id": "EfgVQLhHa_IX",
        "colab_type": "code",
        "colab": {}
      },
      "cell_type": "code",
      "source": [
        "def quadraticEquation(a,b,c):\n",
        "  a = float(a)\n",
        "  b = float(b)\n",
        "  c = float(c)\n",
        "  \n",
        "  numerator1 = b*(-1) + (b**2 - 4*a*c)**(1/2)\n",
        "  numerator2 = b*(-1) - (b**2 - 4*a*c)**(1/2)\n",
        "  denumerator = 2*a\n",
        "\n",
        "  result1 = numerator1 / denumerator\n",
        "  result2 = numerator2 / denumerator\n",
        "  \n",
        "  return result1, result2"
      ],
      "execution_count": 0,
      "outputs": []
    },
    {
      "metadata": {
        "id": "rPO3VYWIblkD",
        "colab_type": "text"
      },
      "cell_type": "markdown",
      "source": [
        "Your job is to write **if/else** statements to handle problems with:\n",
        "\n",
        "1.   Dividing by zero\n",
        "2.   Don't let the function output complex numbers. \n",
        "\n"
      ]
    },
    {
      "metadata": {
        "id": "A1vpvlyobexc",
        "colab_type": "code",
        "colab": {}
      },
      "cell_type": "code",
      "source": [
        "\"\"\"\n",
        "  Example of passing data through your function.\n",
        "  You may change this, you're the boss!\n",
        "\n",
        "\"\"\"\n",
        "\n",
        "myData = [[0,1,2],  # cant devide by zero\n",
        "          [0,1,89], # cant devide by zero\n",
        "          [1,1,2],  # complex solution\n",
        "          [1,2,1],  # real solution\n",
        "          [1,2,8],  # complex solution\n",
        "          [1,3,2]]  # real olution\n",
        "\n",
        "# declre empty list for storing solutions\n",
        "mySolutions = []\n",
        "\n",
        "for row in myData:\n",
        "  roots = quadraticEquation(row[0],row[1],row[2])\n",
        "  mySolutions.append(roots)\n",
        "  \n",
        "print(mySolutions)"
      ],
      "execution_count": 0,
      "outputs": []
    },
    {
      "metadata": {
        "id": "GAWkeb9Udr2X",
        "colab_type": "text"
      },
      "cell_type": "markdown",
      "source": [
        "If you use the data above, your solutions should output something like:\n",
        "\n",
        "\n",
        "\n",
        "```\n",
        "[[-1.0, -1.0], [-1.0, -2.0]]\n",
        "```\n",
        "\n",
        "ou may use numpy, but FYI numpy solves for **x** when **a** equals zero!!!! We want to apply the quadratic equation or do nothing."
      ]
    },
    {
      "metadata": {
        "id": "27DY7GczCjwa",
        "colab_type": "text"
      },
      "cell_type": "markdown",
      "source": [
        "# Coding Challenge 1 - Answers"
      ]
    },
    {
      "metadata": {
        "id": "50Ojqj-DC70z",
        "colab_type": "text"
      },
      "cell_type": "markdown",
      "source": [
        "## Instructor Answer\n",
        "Posted for learning purposes only. "
      ]
    },
    {
      "metadata": {
        "id": "21bEw1TUDew1",
        "colab_type": "text"
      },
      "cell_type": "markdown",
      "source": [
        "### Pure Python Solution"
      ]
    },
    {
      "metadata": {
        "id": "n6Un93RjC6zB",
        "colab_type": "code",
        "colab": {
          "base_uri": "https://localhost:8080/",
          "height": 34
        },
        "outputId": "587eadcc-9cbc-4be8-f978-923e0d755490"
      },
      "cell_type": "code",
      "source": [
        "\"\"\"\n",
        "  Author: Edgard Parra\n",
        "  Date: 10.15.18\n",
        "  \n",
        "  This is a python function for the quadratic equation with an example on how to use it.\n",
        "\"\"\"\n",
        "\n",
        "def quadraticEquation(a,b,c):\n",
        "  # a,b,c are our input. We expect numbers, but lets turn them into floats to avoid errors.\n",
        "  a = float(a)\n",
        "  b = float(b)\n",
        "  c = float(c)\n",
        "  \n",
        "  discriminant = b**2 - 4*a*c\n",
        "  \n",
        "  numerator1 = b*(-1) + (discriminant)**(1/2)\n",
        "  numerator2 = b*(-1) - (discriminant)**(1/2)\n",
        "  denumerator = 2*a\n",
        "  \n",
        "  if discriminant >= 0 and denumerator != 0:\n",
        "    myResult = [numerator1/denumerator,numerator2/denumerator]\n",
        "    return myResult\n",
        "  else:\n",
        "    return None\n",
        "\n",
        "myData = [[0,1,2],  # cant devide by zero\n",
        "          [0,1,89], # cant devide by zero\n",
        "          [1,1,2],  # complex solution\n",
        "          [1,2,1],  # real solution\n",
        "          [1,2,8],  # complex solution\n",
        "          [1,3,2]]  # real olution\n",
        "\n",
        "# declre empty list for storing solutions\n",
        "mySolutions = []\n",
        "\n",
        "for row in myData:\n",
        "  roots = quadraticEquation(row[0],row[1],row[2])\n",
        "  if roots is not None:\n",
        "    mySolutions.append(roots)\n",
        "\n",
        "print(mySolutions)"
      ],
      "execution_count": 11,
      "outputs": [
        {
          "output_type": "stream",
          "text": [
            "[[-1.0, -1.0], [-1.0, -2.0]]\n"
          ],
          "name": "stdout"
        }
      ]
    },
    {
      "metadata": {
        "id": "wAiV2TE_DjRj",
        "colab_type": "text"
      },
      "cell_type": "markdown",
      "source": [
        "### Using Numpy - Solution"
      ]
    },
    {
      "metadata": {
        "id": "0CYE-isiDr-l",
        "colab_type": "code",
        "colab": {
          "base_uri": "https://localhost:8080/",
          "height": 52
        },
        "outputId": "b4acb580-73a9-4b1d-fdf9-9b0f22890d4b"
      },
      "cell_type": "code",
      "source": [
        "\"\"\"\n",
        "  Author: Edgard Parra\n",
        "  Date: 10.15.18\n",
        "  \n",
        "  This is a how to solve quadratic equations with numpy\n",
        "\"\"\"\n",
        "\n",
        "import numpy as np\n",
        "\n",
        "myData = [[0,1,2],  # cant devide by zero\n",
        "          [0,1,89], # cant devide by zero\n",
        "          [1,1,2],  # complex solution\n",
        "          [1,2,1],  # real solution\n",
        "          [1,2,8],  # complex solution\n",
        "          [1,3,2]]  # real olution\n",
        "\n",
        "# declare an empty list to store values\n",
        "myCleanData = []\n",
        "\n",
        "# traverse through our original data and remove problematic data\n",
        "for row in myData:\n",
        "  if row[0] != 0 and (row[1]**2 - 4*row[0]*row[2]) >= 0:\n",
        "    myCleanData.append(row)\n",
        "\n",
        "#print('clean data without zeros for a =',myCleanData)\n",
        "    \n",
        "for row in myCleanData:\n",
        "  numpySolutions = np.roots(row)\n",
        "  print(numpySolutions)"
      ],
      "execution_count": 6,
      "outputs": [
        {
          "output_type": "stream",
          "text": [
            "[-1. -1.]\n",
            "[-2. -1.]\n"
          ],
          "name": "stdout"
        }
      ]
    },
    {
      "metadata": {
        "id": "vI37OBSO9shx",
        "colab_type": "text"
      },
      "cell_type": "markdown",
      "source": [
        "## Student Answer 1\n",
        "Posted for learning purposes only."
      ]
    },
    {
      "metadata": {
        "id": "2PpOwJSdgt4i",
        "colab_type": "code",
        "colab": {
          "base_uri": "https://localhost:8080/",
          "height": 52
        },
        "outputId": "95fd7f51-877d-4514-b507-dd40554e0da6"
      },
      "cell_type": "code",
      "source": [
        "\"\"\"Student Answer 1\"\"\"\n",
        "def quadEQ(a,b,c):\n",
        "  # a,b,c are our input. We expect numbers, but lets turn them into floats to avoid errors.\n",
        "  a = float(a)\n",
        "  b = float(b)\n",
        "  c = float(c)\n",
        "  \n",
        "  discriminant = b**2 - 4*a*c\n",
        "  \n",
        "  numerator1 = b*(-1) + (discriminant)**(1/2)\n",
        "  numerator2 = b*(-1) - (discriminant)**(1/2)\n",
        "  denumerator = 2*a\n",
        "    \n",
        "    \n",
        "    \n",
        "  if denumerator != 0 and discriminant >= 0:\n",
        "    # do not append result\n",
        "    result1 = numerator1 / denumerator\n",
        "    result2 = numerator2 / denumerator\n",
        "    print(result1,result2)\n",
        "  \n",
        "  ##if discriminant >= 0:\n",
        "   \n",
        "    ##result1 = numerator1 / denumerator\n",
        "    ##result2 = numerator2 / denumerator\n",
        "    \n",
        "  else:\n",
        "    print('no')\n",
        "  \n",
        "  \n",
        "  \n",
        "  \n",
        "  ##aList = [result1,result2]\n",
        "  \n",
        "  #print(result1,',',result2)\n",
        "  #return aList\n",
        "\n",
        "#myData = [0,1,2]\n",
        "\n",
        "print(quadEQ(0,3,2))"
      ],
      "execution_count": 9,
      "outputs": [
        {
          "output_type": "stream",
          "text": [
            "no\n",
            "None\n"
          ],
          "name": "stdout"
        }
      ]
    },
    {
      "metadata": {
        "id": "Pbr7ycJhAJ10",
        "colab_type": "text"
      },
      "cell_type": "markdown",
      "source": [
        "## Student Answer 2\n",
        "Posted for learning purposes only."
      ]
    },
    {
      "metadata": {
        "id": "uI_-E9dfLMTO",
        "colab_type": "code",
        "colab": {
          "base_uri": "https://localhost:8080/",
          "height": 34
        },
        "outputId": "de08b2eb-cd20-4ea7-d1dd-a9bdc6441889"
      },
      "cell_type": "code",
      "source": [
        "\"\"\"Sudent Answer 2\"\"\"\n",
        "\n",
        "a=1\n",
        "b=3\n",
        "c=9\n",
        "\n",
        "#print(a,\"x^2 + \",b,\"x + \",c,\"= 0\")\n",
        "\n",
        "# (-b) +/- Sqrt(b^2 - 4ac)  / 2a\n",
        "\n",
        "discrim = b**2 - 4*a*c\n",
        "pnumerator = b*(-1) + (discrim)**(.5)\n",
        "nnumerator = b*(-1) - (discrim)**(.5)\n",
        "denominator = 2*a\n",
        "\n",
        "\n",
        "if discrim < 0 or denominator ==0:\n",
        "  if denominator == 0:\n",
        "    \n",
        "    print('not a quadratic')\n",
        "    x = -1*c / b\n",
        "    print(x)\n",
        "    \n",
        "  else: \n",
        "    if discrim <0:\n",
        "      print('Complex answer')\n",
        "  \n",
        "else: \n",
        "  result1= (pnumerator/denominator)\n",
        "  result2 = (nnumerator/denominator)\n",
        "\n",
        "  print (result1, result2)\n"
      ],
      "execution_count": 3,
      "outputs": [
        {
          "output_type": "stream",
          "text": [
            "Complex answer\n"
          ],
          "name": "stdout"
        }
      ]
    },
    {
      "metadata": {
        "id": "dhlDAXtuALlj",
        "colab_type": "text"
      },
      "cell_type": "markdown",
      "source": [
        "## Student Answer 3\n",
        "Posted for learning purposes only."
      ]
    },
    {
      "metadata": {
        "id": "xnsMO4inLacO",
        "colab_type": "code",
        "colab": {
          "base_uri": "https://localhost:8080/",
          "height": 52
        },
        "outputId": "8a1391b9-bc29-403a-895f-a81ce1758291"
      },
      "cell_type": "code",
      "source": [
        "\"\"\"Student Answer 3\"\"\"\n",
        "\n",
        "def quadEQ(a,b,c):\n",
        "  # a,b,c are our input. We expect numbers, but lets turn them into floats to avoid errors.\n",
        "  a = float(a)\n",
        "  b = float(b)\n",
        "  c = float(c)\n",
        "  flag = True # added boolean flag\n",
        "  \n",
        "  discriminate = b**2 - 4*a*c\n",
        "  numerator1 = b*(-1) + discriminate**(1/2)\n",
        "  numerator2 = b*(-1) - discriminate**(1/2)\n",
        "  denumerator = 2*a\n",
        "\n",
        "  # if denominator is 0 or if discriminate is a negative number, set flag to false \n",
        "  if denumerator == 0 or discriminate < 0:\n",
        "    flag = False \n",
        "  \n",
        "  # calculate and print result1 and result2 only if flag is true\n",
        "  if flag == True:\n",
        "    result1 = numerator1 / denumerator\n",
        "    result2 = numerator2 / denumerator\n",
        "    print(result1,',',result2)\n",
        "  else:\n",
        "    print('Not a number')\n",
        "  return flag # true if calculated result1 and result2, false if not a number\n",
        "  \n",
        "# we can re-use our function with diferent values!\n",
        "quadEQ(0,2,1)"
      ],
      "execution_count": 4,
      "outputs": [
        {
          "output_type": "stream",
          "text": [
            "Not a number\n"
          ],
          "name": "stdout"
        },
        {
          "output_type": "execute_result",
          "data": {
            "text/plain": [
              "False"
            ]
          },
          "metadata": {
            "tags": []
          },
          "execution_count": 4
        }
      ]
    }
  ]
}